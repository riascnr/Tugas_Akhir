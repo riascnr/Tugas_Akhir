{
  "nbformat": 4,
  "nbformat_minor": 0,
  "metadata": {
    "colab": {
      "provenance": []
    },
    "kernelspec": {
      "name": "python3",
      "display_name": "Python 3"
    },
    "language_info": {
      "name": "python"
    }
  },
  "cells": [
    {
      "cell_type": "markdown",
      "source": [
        "# **Import Library**"
      ],
      "metadata": {
        "id": "j7pkuHsQjrb7"
      }
    },
    {
      "cell_type": "code",
      "execution_count": null,
      "metadata": {
        "id": "e3IEYWMjVW0A"
      },
      "outputs": [],
      "source": [
        "import numpy as np\n",
        "import pandas as pd\n",
        "import matplotlib.pyplot as plt\n",
        "import seaborn as sns\n",
        "import warnings\n",
        "warnings.filterwarnings('ignore')\n",
        "\n",
        "from sklearn.model_selection import train_test_split\n",
        "from sklearn.preprocessing import StandardScaler\n",
        "from sklearn.metrics import classification_report, confusion_matrix, accuracy_score\n",
        "\n",
        "import tensorflow as tf\n",
        "from tensorflow.keras.models import Sequential\n",
        "from tensorflow.keras.layers import Dense, Dropout\n",
        "from tensorflow.keras.callbacks import EarlyStopping"
      ]
    },
    {
      "cell_type": "markdown",
      "source": [
        "# **Load Data**"
      ],
      "metadata": {
        "id": "Rgkc5ZQDjxAu"
      }
    },
    {
      "cell_type": "code",
      "source": [
        "# Load dataset\n",
        "data = pd.read_csv('alzheimers_disease_data.csv')\n",
        "print(data.info())"
      ],
      "metadata": {
        "id": "GHWoSuuDcjW2",
        "colab": {
          "base_uri": "https://localhost:8080/"
        },
        "outputId": "fa9af22b-41bf-4c2c-e2e0-1362415ee62f"
      },
      "execution_count": null,
      "outputs": [
        {
          "output_type": "stream",
          "name": "stdout",
          "text": [
            "<class 'pandas.core.frame.DataFrame'>\n",
            "RangeIndex: 2149 entries, 0 to 2148\n",
            "Data columns (total 35 columns):\n",
            " #   Column                     Non-Null Count  Dtype  \n",
            "---  ------                     --------------  -----  \n",
            " 0   PatientID                  2149 non-null   int64  \n",
            " 1   Age                        2149 non-null   int64  \n",
            " 2   Gender                     2149 non-null   int64  \n",
            " 3   Ethnicity                  2149 non-null   int64  \n",
            " 4   EducationLevel             2149 non-null   int64  \n",
            " 5   BMI                        2149 non-null   float64\n",
            " 6   Smoking                    2149 non-null   int64  \n",
            " 7   AlcoholConsumption         2149 non-null   float64\n",
            " 8   PhysicalActivity           2149 non-null   float64\n",
            " 9   DietQuality                2149 non-null   float64\n",
            " 10  SleepQuality               2149 non-null   float64\n",
            " 11  FamilyHistoryAlzheimers    2149 non-null   int64  \n",
            " 12  CardiovascularDisease      2149 non-null   int64  \n",
            " 13  Diabetes                   2149 non-null   int64  \n",
            " 14  Depression                 2149 non-null   int64  \n",
            " 15  HeadInjury                 2149 non-null   int64  \n",
            " 16  Hypertension               2149 non-null   int64  \n",
            " 17  SystolicBP                 2149 non-null   int64  \n",
            " 18  DiastolicBP                2149 non-null   int64  \n",
            " 19  CholesterolTotal           2149 non-null   float64\n",
            " 20  CholesterolLDL             2149 non-null   float64\n",
            " 21  CholesterolHDL             2149 non-null   float64\n",
            " 22  CholesterolTriglycerides   2149 non-null   float64\n",
            " 23  MMSE                       2149 non-null   float64\n",
            " 24  FunctionalAssessment       2149 non-null   float64\n",
            " 25  MemoryComplaints           2149 non-null   int64  \n",
            " 26  BehavioralProblems         2149 non-null   int64  \n",
            " 27  ADL                        2149 non-null   float64\n",
            " 28  Confusion                  2149 non-null   int64  \n",
            " 29  Disorientation             2149 non-null   int64  \n",
            " 30  PersonalityChanges         2149 non-null   int64  \n",
            " 31  DifficultyCompletingTasks  2149 non-null   int64  \n",
            " 32  Forgetfulness              2149 non-null   int64  \n",
            " 33  Diagnosis                  2149 non-null   int64  \n",
            " 34  DoctorInCharge             2149 non-null   object \n",
            "dtypes: float64(12), int64(22), object(1)\n",
            "memory usage: 587.7+ KB\n",
            "None\n"
          ]
        }
      ]
    },
    {
      "cell_type": "markdown",
      "source": [
        "# **Pre-Prosessing Data**"
      ],
      "metadata": {
        "id": "UUknehcMjbKo"
      }
    },
    {
      "cell_type": "code",
      "source": [
        "# Check for missing values\n",
        "print(\"Missing values per column:\")\n",
        "print(data.isnull().sum())"
      ],
      "metadata": {
        "colab": {
          "base_uri": "https://localhost:8080/"
        },
        "id": "1NEiEfqijnu8",
        "outputId": "3efea689-4ceb-4f0c-da1a-4ac4a40d4476"
      },
      "execution_count": null,
      "outputs": [
        {
          "output_type": "stream",
          "name": "stdout",
          "text": [
            "Missing values per column:\n",
            "PatientID                    0\n",
            "Age                          0\n",
            "Gender                       0\n",
            "Ethnicity                    0\n",
            "EducationLevel               0\n",
            "BMI                          0\n",
            "Smoking                      0\n",
            "AlcoholConsumption           0\n",
            "PhysicalActivity             0\n",
            "DietQuality                  0\n",
            "SleepQuality                 0\n",
            "FamilyHistoryAlzheimers      0\n",
            "CardiovascularDisease        0\n",
            "Diabetes                     0\n",
            "Depression                   0\n",
            "HeadInjury                   0\n",
            "Hypertension                 0\n",
            "SystolicBP                   0\n",
            "DiastolicBP                  0\n",
            "CholesterolTotal             0\n",
            "CholesterolLDL               0\n",
            "CholesterolHDL               0\n",
            "CholesterolTriglycerides     0\n",
            "MMSE                         0\n",
            "FunctionalAssessment         0\n",
            "MemoryComplaints             0\n",
            "BehavioralProblems           0\n",
            "ADL                          0\n",
            "Confusion                    0\n",
            "Disorientation               0\n",
            "PersonalityChanges           0\n",
            "DifficultyCompletingTasks    0\n",
            "Forgetfulness                0\n",
            "Diagnosis                    0\n",
            "DoctorInCharge               0\n",
            "dtype: int64\n"
          ]
        }
      ]
    },
    {
      "cell_type": "code",
      "source": [
        "# Menghilangkan nilai yang hilang\n",
        "data = data.dropna()"
      ],
      "metadata": {
        "id": "aGqync113EMo"
      },
      "execution_count": null,
      "outputs": []
    },
    {
      "cell_type": "code",
      "source": [
        "# Menghilangkan data duplikat\n",
        "data = data.drop_duplicates()\n",
        "print(data.describe())"
      ],
      "metadata": {
        "id": "aBNEJbba3F8o",
        "colab": {
          "base_uri": "https://localhost:8080/"
        },
        "outputId": "2a9f668e-0d80-40a1-f07d-e0f8bbe52b0a"
      },
      "execution_count": null,
      "outputs": [
        {
          "output_type": "stream",
          "name": "stdout",
          "text": [
            "         PatientID          Age       Gender    Ethnicity  EducationLevel  \\\n",
            "count  2149.000000  2149.000000  2149.000000  2149.000000     2149.000000   \n",
            "mean   5825.000000    74.908795     0.506282     0.697534        1.286645   \n",
            "std     620.507185     8.990221     0.500077     0.996128        0.904527   \n",
            "min    4751.000000    60.000000     0.000000     0.000000        0.000000   \n",
            "25%    5288.000000    67.000000     0.000000     0.000000        1.000000   \n",
            "50%    5825.000000    75.000000     1.000000     0.000000        1.000000   \n",
            "75%    6362.000000    83.000000     1.000000     1.000000        2.000000   \n",
            "max    6899.000000    90.000000     1.000000     3.000000        3.000000   \n",
            "\n",
            "               BMI      Smoking  AlcoholConsumption  PhysicalActivity  \\\n",
            "count  2149.000000  2149.000000         2149.000000       2149.000000   \n",
            "mean     27.655697     0.288506           10.039442          4.920202   \n",
            "std       7.217438     0.453173            5.757910          2.857191   \n",
            "min      15.008851     0.000000            0.002003          0.003616   \n",
            "25%      21.611408     0.000000            5.139810          2.570626   \n",
            "50%      27.823924     0.000000            9.934412          4.766424   \n",
            "75%      33.869778     1.000000           15.157931          7.427899   \n",
            "max      39.992767     1.000000           19.989293          9.987429   \n",
            "\n",
            "       DietQuality  ...  FunctionalAssessment  MemoryComplaints  \\\n",
            "count  2149.000000  ...           2149.000000       2149.000000   \n",
            "mean      4.993138  ...              5.080055          0.208004   \n",
            "std       2.909055  ...              2.892743          0.405974   \n",
            "min       0.009385  ...              0.000460          0.000000   \n",
            "25%       2.458455  ...              2.566281          0.000000   \n",
            "50%       5.076087  ...              5.094439          0.000000   \n",
            "75%       7.558625  ...              7.546981          0.000000   \n",
            "max       9.998346  ...              9.996467          1.000000   \n",
            "\n",
            "       BehavioralProblems          ADL    Confusion  Disorientation  \\\n",
            "count         2149.000000  2149.000000  2149.000000     2149.000000   \n",
            "mean             0.156817     4.982958     0.205212        0.158213   \n",
            "std              0.363713     2.949775     0.403950        0.365026   \n",
            "min              0.000000     0.001288     0.000000        0.000000   \n",
            "25%              0.000000     2.342836     0.000000        0.000000   \n",
            "50%              0.000000     5.038973     0.000000        0.000000   \n",
            "75%              0.000000     7.581490     0.000000        0.000000   \n",
            "max              1.000000     9.999747     1.000000        1.000000   \n",
            "\n",
            "       PersonalityChanges  DifficultyCompletingTasks  Forgetfulness  \\\n",
            "count         2149.000000                2149.000000    2149.000000   \n",
            "mean             0.150768                   0.158678       0.301536   \n",
            "std              0.357906                   0.365461       0.459032   \n",
            "min              0.000000                   0.000000       0.000000   \n",
            "25%              0.000000                   0.000000       0.000000   \n",
            "50%              0.000000                   0.000000       0.000000   \n",
            "75%              0.000000                   0.000000       1.000000   \n",
            "max              1.000000                   1.000000       1.000000   \n",
            "\n",
            "         Diagnosis  \n",
            "count  2149.000000  \n",
            "mean      0.353653  \n",
            "std       0.478214  \n",
            "min       0.000000  \n",
            "25%       0.000000  \n",
            "50%       0.000000  \n",
            "75%       1.000000  \n",
            "max       1.000000  \n",
            "\n",
            "[8 rows x 34 columns]\n"
          ]
        }
      ]
    },
    {
      "cell_type": "code",
      "source": [
        "# Asumsikan kolom terakhir adalah label\n",
        "X = data.drop(columns=['PatientID', 'DoctorInCharge', 'Diagnosis'])\n",
        "y = pd.get_dummies(data['Diagnosis'], drop_first=True)  # One-hot encoding jika diagnosisnya kategorikal"
      ],
      "metadata": {
        "id": "8nOjPJAF3dB6"
      },
      "execution_count": null,
      "outputs": []
    },
    {
      "cell_type": "markdown",
      "source": [
        "# **Pembagian Data**"
      ],
      "metadata": {
        "id": "1FpUe6XzfifE"
      }
    },
    {
      "cell_type": "code",
      "source": [
        "# Membagi data dengan rasio 80:20\n",
        "X_train, X_test, y_train, y_test = train_test_split(X, y, test_size=0.2, random_state=42)"
      ],
      "metadata": {
        "id": "slfwipLcflTK"
      },
      "execution_count": null,
      "outputs": []
    },
    {
      "cell_type": "code",
      "source": [
        "# Standarisasi fitur\n",
        "scaler = StandardScaler()\n",
        "X_train = scaler.fit_transform(X_train)\n",
        "X_test = scaler.transform(X_test)"
      ],
      "metadata": {
        "id": "t-pm96uKfnuV"
      },
      "execution_count": null,
      "outputs": []
    },
    {
      "cell_type": "markdown",
      "source": [
        "# **ANN**"
      ],
      "metadata": {
        "id": "bq0Ed0f66XSc"
      }
    },
    {
      "cell_type": "code",
      "source": [
        "# Definisikan model ANN\n",
        "model = Sequential()"
      ],
      "metadata": {
        "id": "znla0ITz6h3P"
      },
      "execution_count": null,
      "outputs": []
    },
    {
      "cell_type": "code",
      "source": [
        "# Input layer + hidden layer pertama\n",
        "model.add(Dense(units=64, activation='relu', input_dim=X_train.shape[1]))\n",
        "model.add(Dropout(0.3))  # Menambahkan dropout untuk mencegah overfitting"
      ],
      "metadata": {
        "id": "fB2HAy2I6nEy"
      },
      "execution_count": null,
      "outputs": []
    },
    {
      "cell_type": "code",
      "source": [
        "# Hidden layer kedua\n",
        "model.add(Dense(units=32, activation='relu'))\n",
        "model.add(Dropout(0.3))"
      ],
      "metadata": {
        "id": "YI9lUpin6y7y"
      },
      "execution_count": null,
      "outputs": []
    },
    {
      "cell_type": "code",
      "source": [
        "# Output layer\n",
        "model.add(Dense(units=1, activation='sigmoid'))  # Output 1 neuron untuk klasifikasi biner"
      ],
      "metadata": {
        "id": "Od25cO_Nf0tf"
      },
      "execution_count": null,
      "outputs": []
    },
    {
      "cell_type": "code",
      "source": [
        "# Kompilasi model\n",
        "model.compile(optimizer='adam', loss='binary_crossentropy', metrics=['accuracy'])"
      ],
      "metadata": {
        "id": "BKSRjX5bf3P9"
      },
      "execution_count": null,
      "outputs": []
    },
    {
      "cell_type": "code",
      "source": [
        "# Early stopping untuk menghindari overfitting\n",
        "early_stopping = EarlyStopping(monitor='val_loss', patience=10, restore_best_weights=True)"
      ],
      "metadata": {
        "id": "WBAtF6Vtf4sD"
      },
      "execution_count": null,
      "outputs": []
    },
    {
      "cell_type": "code",
      "source": [
        "# Latih model\n",
        "history = model.fit(X_train, y_train, validation_data=(X_test, y_test),\n",
        "                    epochs=100, batch_size=32, callbacks=[early_stopping], verbose=1)"
      ],
      "metadata": {
        "colab": {
          "base_uri": "https://localhost:8080/"
        },
        "id": "PA9noAEIf7WL",
        "outputId": "02900cd4-371c-47f3-9d40-33d302d356b9"
      },
      "execution_count": null,
      "outputs": [
        {
          "output_type": "stream",
          "name": "stdout",
          "text": [
            "Epoch 1/100\n",
            "\u001b[1m54/54\u001b[0m \u001b[32m━━━━━━━━━━━━━━━━━━━━\u001b[0m\u001b[37m\u001b[0m \u001b[1m4s\u001b[0m 21ms/step - accuracy: 0.5835 - loss: 0.6717 - val_accuracy: 0.6791 - val_loss: 0.5801\n",
            "Epoch 2/100\n",
            "\u001b[1m54/54\u001b[0m \u001b[32m━━━━━━━━━━━━━━━━━━━━\u001b[0m\u001b[37m\u001b[0m \u001b[1m0s\u001b[0m 8ms/step - accuracy: 0.6974 - loss: 0.5797 - val_accuracy: 0.7698 - val_loss: 0.5075\n",
            "Epoch 3/100\n",
            "\u001b[1m54/54\u001b[0m \u001b[32m━━━━━━━━━━━━━━━━━━━━\u001b[0m\u001b[37m\u001b[0m \u001b[1m1s\u001b[0m 10ms/step - accuracy: 0.7516 - loss: 0.5238 - val_accuracy: 0.7884 - val_loss: 0.4468\n",
            "Epoch 4/100\n",
            "\u001b[1m54/54\u001b[0m \u001b[32m━━━━━━━━━━━━━━━━━━━━\u001b[0m\u001b[37m\u001b[0m \u001b[1m0s\u001b[0m 7ms/step - accuracy: 0.7997 - loss: 0.4524 - val_accuracy: 0.8000 - val_loss: 0.4170\n",
            "Epoch 5/100\n",
            "\u001b[1m54/54\u001b[0m \u001b[32m━━━━━━━━━━━━━━━━━━━━\u001b[0m\u001b[37m\u001b[0m \u001b[1m1s\u001b[0m 10ms/step - accuracy: 0.8047 - loss: 0.4437 - val_accuracy: 0.8279 - val_loss: 0.4037\n",
            "Epoch 6/100\n",
            "\u001b[1m54/54\u001b[0m \u001b[32m━━━━━━━━━━━━━━━━━━━━\u001b[0m\u001b[37m\u001b[0m \u001b[1m1s\u001b[0m 11ms/step - accuracy: 0.8217 - loss: 0.4004 - val_accuracy: 0.8209 - val_loss: 0.3980\n",
            "Epoch 7/100\n",
            "\u001b[1m54/54\u001b[0m \u001b[32m━━━━━━━━━━━━━━━━━━━━\u001b[0m\u001b[37m\u001b[0m \u001b[1m1s\u001b[0m 15ms/step - accuracy: 0.8274 - loss: 0.4087 - val_accuracy: 0.8256 - val_loss: 0.3962\n",
            "Epoch 8/100\n",
            "\u001b[1m54/54\u001b[0m \u001b[32m━━━━━━━━━━━━━━━━━━━━\u001b[0m\u001b[37m\u001b[0m \u001b[1m1s\u001b[0m 11ms/step - accuracy: 0.8371 - loss: 0.3730 - val_accuracy: 0.8279 - val_loss: 0.3943\n",
            "Epoch 9/100\n",
            "\u001b[1m54/54\u001b[0m \u001b[32m━━━━━━━━━━━━━━━━━━━━\u001b[0m\u001b[37m\u001b[0m \u001b[1m1s\u001b[0m 11ms/step - accuracy: 0.8444 - loss: 0.3606 - val_accuracy: 0.8279 - val_loss: 0.3910\n",
            "Epoch 10/100\n",
            "\u001b[1m54/54\u001b[0m \u001b[32m━━━━━━━━━━━━━━━━━━━━\u001b[0m\u001b[37m\u001b[0m \u001b[1m1s\u001b[0m 7ms/step - accuracy: 0.8677 - loss: 0.3403 - val_accuracy: 0.8302 - val_loss: 0.3884\n",
            "Epoch 11/100\n",
            "\u001b[1m54/54\u001b[0m \u001b[32m━━━━━━━━━━━━━━━━━━━━\u001b[0m\u001b[37m\u001b[0m \u001b[1m1s\u001b[0m 10ms/step - accuracy: 0.8577 - loss: 0.3418 - val_accuracy: 0.8349 - val_loss: 0.3852\n",
            "Epoch 12/100\n",
            "\u001b[1m54/54\u001b[0m \u001b[32m━━━━━━━━━━━━━━━━━━━━\u001b[0m\u001b[37m\u001b[0m \u001b[1m0s\u001b[0m 8ms/step - accuracy: 0.8642 - loss: 0.3499 - val_accuracy: 0.8302 - val_loss: 0.3914\n",
            "Epoch 13/100\n",
            "\u001b[1m54/54\u001b[0m \u001b[32m━━━━━━━━━━━━━━━━━━━━\u001b[0m\u001b[37m\u001b[0m \u001b[1m1s\u001b[0m 10ms/step - accuracy: 0.8699 - loss: 0.3349 - val_accuracy: 0.8349 - val_loss: 0.3893\n",
            "Epoch 14/100\n",
            "\u001b[1m54/54\u001b[0m \u001b[32m━━━━━━━━━━━━━━━━━━━━\u001b[0m\u001b[37m\u001b[0m \u001b[1m1s\u001b[0m 8ms/step - accuracy: 0.8519 - loss: 0.3547 - val_accuracy: 0.8302 - val_loss: 0.3926\n",
            "Epoch 15/100\n",
            "\u001b[1m54/54\u001b[0m \u001b[32m━━━━━━━━━━━━━━━━━━━━\u001b[0m\u001b[37m\u001b[0m \u001b[1m1s\u001b[0m 7ms/step - accuracy: 0.8735 - loss: 0.3381 - val_accuracy: 0.8372 - val_loss: 0.3862\n",
            "Epoch 16/100\n",
            "\u001b[1m54/54\u001b[0m \u001b[32m━━━━━━━━━━━━━━━━━━━━\u001b[0m\u001b[37m\u001b[0m \u001b[1m1s\u001b[0m 8ms/step - accuracy: 0.8767 - loss: 0.3209 - val_accuracy: 0.8372 - val_loss: 0.3849\n",
            "Epoch 17/100\n",
            "\u001b[1m54/54\u001b[0m \u001b[32m━━━━━━━━━━━━━━━━━━━━\u001b[0m\u001b[37m\u001b[0m \u001b[1m1s\u001b[0m 8ms/step - accuracy: 0.8666 - loss: 0.3293 - val_accuracy: 0.8419 - val_loss: 0.3841\n",
            "Epoch 18/100\n",
            "\u001b[1m54/54\u001b[0m \u001b[32m━━━━━━━━━━━━━━━━━━━━\u001b[0m\u001b[37m\u001b[0m \u001b[1m0s\u001b[0m 7ms/step - accuracy: 0.8770 - loss: 0.2902 - val_accuracy: 0.8442 - val_loss: 0.3845\n",
            "Epoch 19/100\n",
            "\u001b[1m54/54\u001b[0m \u001b[32m━━━━━━━━━━━━━━━━━━━━\u001b[0m\u001b[37m\u001b[0m \u001b[1m1s\u001b[0m 7ms/step - accuracy: 0.8905 - loss: 0.3053 - val_accuracy: 0.8395 - val_loss: 0.3827\n",
            "Epoch 20/100\n",
            "\u001b[1m54/54\u001b[0m \u001b[32m━━━━━━━━━━━━━━━━━━━━\u001b[0m\u001b[37m\u001b[0m \u001b[1m0s\u001b[0m 8ms/step - accuracy: 0.8777 - loss: 0.3021 - val_accuracy: 0.8395 - val_loss: 0.3835\n",
            "Epoch 21/100\n",
            "\u001b[1m54/54\u001b[0m \u001b[32m━━━━━━━━━━━━━━━━━━━━\u001b[0m\u001b[37m\u001b[0m \u001b[1m1s\u001b[0m 8ms/step - accuracy: 0.8912 - loss: 0.2746 - val_accuracy: 0.8372 - val_loss: 0.3784\n",
            "Epoch 22/100\n",
            "\u001b[1m54/54\u001b[0m \u001b[32m━━━━━━━━━━━━━━━━━━━━\u001b[0m\u001b[37m\u001b[0m \u001b[1m0s\u001b[0m 8ms/step - accuracy: 0.8876 - loss: 0.3078 - val_accuracy: 0.8465 - val_loss: 0.3776\n",
            "Epoch 23/100\n",
            "\u001b[1m54/54\u001b[0m \u001b[32m━━━━━━━━━━━━━━━━━━━━\u001b[0m\u001b[37m\u001b[0m \u001b[1m1s\u001b[0m 7ms/step - accuracy: 0.8972 - loss: 0.2847 - val_accuracy: 0.8465 - val_loss: 0.3779\n",
            "Epoch 24/100\n",
            "\u001b[1m54/54\u001b[0m \u001b[32m━━━━━━━━━━━━━━━━━━━━\u001b[0m\u001b[37m\u001b[0m \u001b[1m1s\u001b[0m 9ms/step - accuracy: 0.8749 - loss: 0.2910 - val_accuracy: 0.8442 - val_loss: 0.3788\n",
            "Epoch 25/100\n",
            "\u001b[1m54/54\u001b[0m \u001b[32m━━━━━━━━━━━━━━━━━━━━\u001b[0m\u001b[37m\u001b[0m \u001b[1m2s\u001b[0m 14ms/step - accuracy: 0.8901 - loss: 0.2696 - val_accuracy: 0.8395 - val_loss: 0.3773\n",
            "Epoch 26/100\n",
            "\u001b[1m54/54\u001b[0m \u001b[32m━━━━━━━━━━━━━━━━━━━━\u001b[0m\u001b[37m\u001b[0m \u001b[1m1s\u001b[0m 6ms/step - accuracy: 0.8837 - loss: 0.2913 - val_accuracy: 0.8372 - val_loss: 0.3720\n",
            "Epoch 27/100\n",
            "\u001b[1m54/54\u001b[0m \u001b[32m━━━━━━━━━━━━━━━━━━━━\u001b[0m\u001b[37m\u001b[0m \u001b[1m1s\u001b[0m 4ms/step - accuracy: 0.9025 - loss: 0.2684 - val_accuracy: 0.8419 - val_loss: 0.3790\n",
            "Epoch 28/100\n",
            "\u001b[1m54/54\u001b[0m \u001b[32m━━━━━━━━━━━━━━━━━━━━\u001b[0m\u001b[37m\u001b[0m \u001b[1m0s\u001b[0m 3ms/step - accuracy: 0.9066 - loss: 0.2454 - val_accuracy: 0.8395 - val_loss: 0.3842\n",
            "Epoch 29/100\n",
            "\u001b[1m54/54\u001b[0m \u001b[32m━━━━━━━━━━━━━━━━━━━━\u001b[0m\u001b[37m\u001b[0m \u001b[1m0s\u001b[0m 3ms/step - accuracy: 0.8921 - loss: 0.2864 - val_accuracy: 0.8512 - val_loss: 0.3790\n",
            "Epoch 30/100\n",
            "\u001b[1m54/54\u001b[0m \u001b[32m━━━━━━━━━━━━━━━━━━━━\u001b[0m\u001b[37m\u001b[0m \u001b[1m0s\u001b[0m 3ms/step - accuracy: 0.8850 - loss: 0.2857 - val_accuracy: 0.8442 - val_loss: 0.3782\n",
            "Epoch 31/100\n",
            "\u001b[1m54/54\u001b[0m \u001b[32m━━━━━━━━━━━━━━━━━━━━\u001b[0m\u001b[37m\u001b[0m \u001b[1m0s\u001b[0m 3ms/step - accuracy: 0.8781 - loss: 0.2868 - val_accuracy: 0.8465 - val_loss: 0.3841\n",
            "Epoch 32/100\n",
            "\u001b[1m54/54\u001b[0m \u001b[32m━━━━━━━━━━━━━━━━━━━━\u001b[0m\u001b[37m\u001b[0m \u001b[1m0s\u001b[0m 3ms/step - accuracy: 0.8980 - loss: 0.2845 - val_accuracy: 0.8442 - val_loss: 0.3838\n",
            "Epoch 33/100\n",
            "\u001b[1m54/54\u001b[0m \u001b[32m━━━━━━━━━━━━━━━━━━━━\u001b[0m\u001b[37m\u001b[0m \u001b[1m0s\u001b[0m 4ms/step - accuracy: 0.9129 - loss: 0.2579 - val_accuracy: 0.8419 - val_loss: 0.3821\n",
            "Epoch 34/100\n",
            "\u001b[1m54/54\u001b[0m \u001b[32m━━━━━━━━━━━━━━━━━━━━\u001b[0m\u001b[37m\u001b[0m \u001b[1m0s\u001b[0m 3ms/step - accuracy: 0.9106 - loss: 0.2566 - val_accuracy: 0.8535 - val_loss: 0.3820\n",
            "Epoch 35/100\n",
            "\u001b[1m54/54\u001b[0m \u001b[32m━━━━━━━━━━━━━━━━━━━━\u001b[0m\u001b[37m\u001b[0m \u001b[1m0s\u001b[0m 3ms/step - accuracy: 0.9091 - loss: 0.2596 - val_accuracy: 0.8558 - val_loss: 0.3842\n",
            "Epoch 36/100\n",
            "\u001b[1m54/54\u001b[0m \u001b[32m━━━━━━━━━━━━━━━━━━━━\u001b[0m\u001b[37m\u001b[0m \u001b[1m0s\u001b[0m 3ms/step - accuracy: 0.9106 - loss: 0.2398 - val_accuracy: 0.8442 - val_loss: 0.3899\n"
          ]
        }
      ]
    },
    {
      "cell_type": "markdown",
      "source": [
        "# **Evaluasi Model**"
      ],
      "metadata": {
        "id": "i80-ZDGT69mi"
      }
    },
    {
      "cell_type": "code",
      "source": [
        "# Hasil prediksi\n",
        "y_pred = (model.predict(X_test) > 0.5).astype(\"int32\")"
      ],
      "metadata": {
        "id": "nkJ2SEOc69HB",
        "colab": {
          "base_uri": "https://localhost:8080/"
        },
        "outputId": "7260c1a1-8e5b-4bb0-ce3b-c28b5e0089bc"
      },
      "execution_count": null,
      "outputs": [
        {
          "output_type": "stream",
          "name": "stdout",
          "text": [
            "\u001b[1m14/14\u001b[0m \u001b[32m━━━━━━━━━━━━━━━━━━━━\u001b[0m\u001b[37m\u001b[0m \u001b[1m0s\u001b[0m 5ms/step\n"
          ]
        }
      ]
    },
    {
      "cell_type": "code",
      "source": [
        "# Tampilkan Classification Report dan Accuracy\n",
        "print(\"Classification Report ANN\")\n",
        "print(classification_report(y_test, y_pred))\n",
        "print('Model accuracy score: {0:0.4f}'.format(accuracy_score(y_test, y_pred)))"
      ],
      "metadata": {
        "id": "bdMLJTg17Mj9",
        "colab": {
          "base_uri": "https://localhost:8080/"
        },
        "outputId": "71ab3865-8908-4a03-f146-f8af39ddf477"
      },
      "execution_count": null,
      "outputs": [
        {
          "output_type": "stream",
          "name": "stdout",
          "text": [
            "Classification Report ANN\n",
            "              precision    recall  f1-score   support\n",
            "\n",
            "       False       0.85      0.91      0.88       277\n",
            "        True       0.81      0.71      0.76       153\n",
            "\n",
            "    accuracy                           0.84       430\n",
            "   macro avg       0.83      0.81      0.82       430\n",
            "weighted avg       0.84      0.84      0.83       430\n",
            "\n",
            "Model accuracy score: 0.8372\n"
          ]
        }
      ]
    },
    {
      "cell_type": "code",
      "source": [
        "# Tampilkan Confusion Matrix\n",
        "def plot_confusion_matrix(y_true, y_pred, title):\n",
        "    cm = confusion_matrix(y_true, y_pred)\n",
        "    sns.heatmap(cm, annot=True, fmt='d', cmap='Blues', cbar=False)\n",
        "    plt.xlabel('Predicted')\n",
        "    plt.ylabel('True')\n",
        "    plt.title(title)\n",
        "    plt.show()\n",
        "\n",
        "plot_confusion_matrix(y_test, y_pred, \"Confusion Matrix\")"
      ],
      "metadata": {
        "colab": {
          "base_uri": "https://localhost:8080/",
          "height": 472
        },
        "id": "WmVhVEKq7PMP",
        "outputId": "9c00feae-de36-4f64-be80-47ebe6e98c81"
      },
      "execution_count": null,
      "outputs": [
        {
          "output_type": "display_data",
          "data": {
            "text/plain": [
              "<Figure size 640x480 with 1 Axes>"
            ],
            "image/png": "[encoded data removed]"
          },
          "metadata": {}
        }
      ]
    },
    {
      "cell_type": "markdown",
      "source": [
        "# **Plot Akurasi dan Loss**"
      ],
      "metadata": {
        "id": "VSa6oZpw7cZr"
      }
    },
    {
      "cell_type": "code",
      "source": [
        "plt.figure(figsize=(12, 5))"
      ],
      "metadata": {
        "id": "DwcvAc8-8bsA",
        "colab": {
          "base_uri": "https://localhost:8080/",
          "height": 54
        },
        "outputId": "14e29959-b437-4967-dbd7-c3698873294e"
      },
      "execution_count": null,
      "outputs": [
        {
          "output_type": "execute_result",
          "data": {
            "text/plain": [
              "<Figure size 1200x500 with 0 Axes>"
            ]
          },
          "metadata": {},
          "execution_count": 19
        },
        {
          "output_type": "display_data",
          "data": {
            "text/plain": [
              "<Figure size 1200x500 with 0 Axes>"
            ]
          },
          "metadata": {}
        }
      ]
    },
    {
      "cell_type": "code",
      "source": [
        "# Plot training & validation accuracy\n",
        "plt.subplot(1, 2, 1)\n",
        "plt.plot(history.history['accuracy'], label='Training Accuracy')\n",
        "plt.plot(history.history['val_accuracy'], label='Validation Accuracy')\n",
        "plt.title('Model Accuracy')\n",
        "plt.xlabel('Epoch')\n",
        "plt.ylabel('Accuracy')\n",
        "plt.legend()"
      ],
      "metadata": {
        "id": "rDK6DGo981j7",
        "colab": {
          "base_uri": "https://localhost:8080/",
          "height": 490
        },
        "outputId": "d6aee939-58e8-44c1-8adc-a3c7fbf3e625"
      },
      "execution_count": null,
      "outputs": [
        {
          "output_type": "execute_result",
          "data": {
            "text/plain": [
              "<matplotlib.legend.Legend at 0x7b2cd0d7b8b0>"
            ]
          },
          "metadata": {},
          "execution_count": 20
        },
        {
          "output_type": "display_data",
          "data": {
            "text/plain": [
              "<Figure size 640x480 with 1 Axes>"
            ],
            "image/png": "[encoded data removed]"
          },
          "metadata": {}
        }
      ]
    },
    {
      "cell_type": "code",
      "source": [
        "# Plot training & validation loss\n",
        "plt.subplot(1, 2, 2)\n",
        "plt.plot(history.history['loss'], label='Training Loss')\n",
        "plt.plot(history.history['val_loss'], label='Validation Loss')\n",
        "plt.title('Model Loss')\n",
        "plt.xlabel('Epoch')\n",
        "plt.ylabel('Loss')\n",
        "plt.legend()\n",
        "\n",
        "plt.show()"
      ],
      "metadata": {
        "id": "yJBqvhuv9LAM",
        "colab": {
          "base_uri": "https://localhost:8080/",
          "height": 472
        },
        "outputId": "075f9dce-f056-4ea1-9d9a-4e35e918d153"
      },
      "execution_count": null,
      "outputs": [
        {
          "output_type": "display_data",
          "data": {
            "text/plain": [
              "<Figure size 640x480 with 1 Axes>"
            ],
            "image/png": "[encoded data removed]"
          },
          "metadata": {}
        }
      ]
    }
  ]
}