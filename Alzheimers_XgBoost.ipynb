{
  "nbformat": 4,
  "nbformat_minor": 0,
  "metadata": {
    "colab": {
      "provenance": []
    },
    "kernelspec": {
      "name": "python3",
      "display_name": "Python 3"
    },
    "language_info": {
      "name": "python"
    }
  },
  "cells": [
    {
      "cell_type": "markdown",
      "source": [
        "# **Import Library**"
      ],
      "metadata": {
        "id": "3XO3felmhdKR"
      }
    },
    {
      "cell_type": "code",
      "execution_count": null,
      "metadata": {
        "id": "w6hw6RUdhM2O"
      },
      "outputs": [],
      "source": [
        "import numpy as np\n",
        "import pandas as pd\n",
        "import matplotlib.pyplot as plt\n",
        "import seaborn as sns\n",
        "import warnings\n",
        "warnings.filterwarnings('ignore')\n",
        "\n",
        "from sklearn.model_selection import train_test_split, GridSearchCV, KFold, cross_val_score\n",
        "from sklearn.preprocessing import StandardScaler\n",
        "from sklearn.metrics import classification_report, confusion_matrix, accuracy_score\n",
        "\n",
        "import xgboost as xgb\n",
        "from xgboost import XGBClassifier"
      ]
    },
    {
      "cell_type": "markdown",
      "source": [
        "# **Load Data**"
      ],
      "metadata": {
        "id": "HjK-Nrvshjvb"
      }
    },
    {
      "cell_type": "code",
      "source": [
        "# Load dataset\n",
        "data = pd.read_csv('alzheimers_disease_data.csv')\n",
        "print(data.info())"
      ],
      "metadata": {
        "colab": {
          "base_uri": "https://localhost:8080/"
        },
        "id": "ppuOqokhhh_q",
        "outputId": "f35923f0-4ef4-48cf-da2e-bbba45a2c161"
      },
      "execution_count": null,
      "outputs": [
        {
          "output_type": "stream",
          "name": "stdout",
          "text": [
            "<class 'pandas.core.frame.DataFrame'>\n",
            "RangeIndex: 2149 entries, 0 to 2148\n",
            "Data columns (total 35 columns):\n",
            " #   Column                     Non-Null Count  Dtype  \n",
            "---  ------                     --------------  -----  \n",
            " 0   PatientID                  2149 non-null   int64  \n",
            " 1   Age                        2149 non-null   int64  \n",
            " 2   Gender                     2149 non-null   int64  \n",
            " 3   Ethnicity                  2149 non-null   int64  \n",
            " 4   EducationLevel             2149 non-null   int64  \n",
            " 5   BMI                        2149 non-null   float64\n",
            " 6   Smoking                    2149 non-null   int64  \n",
            " 7   AlcoholConsumption         2149 non-null   float64\n",
            " 8   PhysicalActivity           2149 non-null   float64\n",
            " 9   DietQuality                2149 non-null   float64\n",
            " 10  SleepQuality               2149 non-null   float64\n",
            " 11  FamilyHistoryAlzheimers    2149 non-null   int64  \n",
            " 12  CardiovascularDisease      2149 non-null   int64  \n",
            " 13  Diabetes                   2149 non-null   int64  \n",
            " 14  Depression                 2149 non-null   int64  \n",
            " 15  HeadInjury                 2149 non-null   int64  \n",
            " 16  Hypertension               2149 non-null   int64  \n",
            " 17  SystolicBP                 2149 non-null   int64  \n",
            " 18  DiastolicBP                2149 non-null   int64  \n",
            " 19  CholesterolTotal           2149 non-null   float64\n",
            " 20  CholesterolLDL             2149 non-null   float64\n",
            " 21  CholesterolHDL             2149 non-null   float64\n",
            " 22  CholesterolTriglycerides   2149 non-null   float64\n",
            " 23  MMSE                       2149 non-null   float64\n",
            " 24  FunctionalAssessment       2149 non-null   float64\n",
            " 25  MemoryComplaints           2149 non-null   int64  \n",
            " 26  BehavioralProblems         2149 non-null   int64  \n",
            " 27  ADL                        2149 non-null   float64\n",
            " 28  Confusion                  2149 non-null   int64  \n",
            " 29  Disorientation             2149 non-null   int64  \n",
            " 30  PersonalityChanges         2149 non-null   int64  \n",
            " 31  DifficultyCompletingTasks  2149 non-null   int64  \n",
            " 32  Forgetfulness              2149 non-null   int64  \n",
            " 33  Diagnosis                  2149 non-null   int64  \n",
            " 34  DoctorInCharge             2149 non-null   object \n",
            "dtypes: float64(12), int64(22), object(1)\n",
            "memory usage: 587.7+ KB\n",
            "None\n"
          ]
        }
      ]
    },
    {
      "cell_type": "markdown",
      "source": [
        "# **Pre-Processing**"
      ],
      "metadata": {
        "id": "n7xVosMlhnQq"
      }
    },
    {
      "cell_type": "code",
      "source": [
        "# Check for missing values\n",
        "print(\"Missing values per column:\")\n",
        "print(data.isnull().sum())"
      ],
      "metadata": {
        "colab": {
          "base_uri": "https://localhost:8080/"
        },
        "id": "PF6wnmtghnAQ",
        "outputId": "03817697-83ee-4cda-ef7f-3084aae27b8a"
      },
      "execution_count": null,
      "outputs": [
        {
          "output_type": "stream",
          "name": "stdout",
          "text": [
            "Missing values per column:\n",
            "PatientID                    0\n",
            "Age                          0\n",
            "Gender                       0\n",
            "Ethnicity                    0\n",
            "EducationLevel               0\n",
            "BMI                          0\n",
            "Smoking                      0\n",
            "AlcoholConsumption           0\n",
            "PhysicalActivity             0\n",
            "DietQuality                  0\n",
            "SleepQuality                 0\n",
            "FamilyHistoryAlzheimers      0\n",
            "CardiovascularDisease        0\n",
            "Diabetes                     0\n",
            "Depression                   0\n",
            "HeadInjury                   0\n",
            "Hypertension                 0\n",
            "SystolicBP                   0\n",
            "DiastolicBP                  0\n",
            "CholesterolTotal             0\n",
            "CholesterolLDL               0\n",
            "CholesterolHDL               0\n",
            "CholesterolTriglycerides     0\n",
            "MMSE                         0\n",
            "FunctionalAssessment         0\n",
            "MemoryComplaints             0\n",
            "BehavioralProblems           0\n",
            "ADL                          0\n",
            "Confusion                    0\n",
            "Disorientation               0\n",
            "PersonalityChanges           0\n",
            "DifficultyCompletingTasks    0\n",
            "Forgetfulness                0\n",
            "Diagnosis                    0\n",
            "DoctorInCharge               0\n",
            "dtype: int64\n"
          ]
        }
      ]
    },
    {
      "cell_type": "code",
      "source": [
        "# Menghilangkan nilai yang hilang\n",
        "data = data.dropna()"
      ],
      "metadata": {
        "id": "i0Gmwf_qhrLs"
      },
      "execution_count": null,
      "outputs": []
    },
    {
      "cell_type": "code",
      "source": [
        "# Menghilangkan data duplikat\n",
        "data = data.drop_duplicates()\n",
        "print(data.describe())"
      ],
      "metadata": {
        "colab": {
          "base_uri": "https://localhost:8080/"
        },
        "id": "o_YEZz4rhs9u",
        "outputId": "04008aa2-6d53-4365-c887-8288814cf222"
      },
      "execution_count": null,
      "outputs": [
        {
          "output_type": "stream",
          "name": "stdout",
          "text": [
            "         PatientID          Age       Gender    Ethnicity  EducationLevel  \\\n",
            "count  2149.000000  2149.000000  2149.000000  2149.000000     2149.000000   \n",
            "mean   5825.000000    74.908795     0.506282     0.697534        1.286645   \n",
            "std     620.507185     8.990221     0.500077     0.996128        0.904527   \n",
            "min    4751.000000    60.000000     0.000000     0.000000        0.000000   \n",
            "25%    5288.000000    67.000000     0.000000     0.000000        1.000000   \n",
            "50%    5825.000000    75.000000     1.000000     0.000000        1.000000   \n",
            "75%    6362.000000    83.000000     1.000000     1.000000        2.000000   \n",
            "max    6899.000000    90.000000     1.000000     3.000000        3.000000   \n",
            "\n",
            "               BMI      Smoking  AlcoholConsumption  PhysicalActivity  \\\n",
            "count  2149.000000  2149.000000         2149.000000       2149.000000   \n",
            "mean     27.655697     0.288506           10.039442          4.920202   \n",
            "std       7.217438     0.453173            5.757910          2.857191   \n",
            "min      15.008851     0.000000            0.002003          0.003616   \n",
            "25%      21.611408     0.000000            5.139810          2.570626   \n",
            "50%      27.823924     0.000000            9.934412          4.766424   \n",
            "75%      33.869778     1.000000           15.157931          7.427899   \n",
            "max      39.992767     1.000000           19.989293          9.987429   \n",
            "\n",
            "       DietQuality  ...  FunctionalAssessment  MemoryComplaints  \\\n",
            "count  2149.000000  ...           2149.000000       2149.000000   \n",
            "mean      4.993138  ...              5.080055          0.208004   \n",
            "std       2.909055  ...              2.892743          0.405974   \n",
            "min       0.009385  ...              0.000460          0.000000   \n",
            "25%       2.458455  ...              2.566281          0.000000   \n",
            "50%       5.076087  ...              5.094439          0.000000   \n",
            "75%       7.558625  ...              7.546981          0.000000   \n",
            "max       9.998346  ...              9.996467          1.000000   \n",
            "\n",
            "       BehavioralProblems          ADL    Confusion  Disorientation  \\\n",
            "count         2149.000000  2149.000000  2149.000000     2149.000000   \n",
            "mean             0.156817     4.982958     0.205212        0.158213   \n",
            "std              0.363713     2.949775     0.403950        0.365026   \n",
            "min              0.000000     0.001288     0.000000        0.000000   \n",
            "25%              0.000000     2.342836     0.000000        0.000000   \n",
            "50%              0.000000     5.038973     0.000000        0.000000   \n",
            "75%              0.000000     7.581490     0.000000        0.000000   \n",
            "max              1.000000     9.999747     1.000000        1.000000   \n",
            "\n",
            "       PersonalityChanges  DifficultyCompletingTasks  Forgetfulness  \\\n",
            "count         2149.000000                2149.000000    2149.000000   \n",
            "mean             0.150768                   0.158678       0.301536   \n",
            "std              0.357906                   0.365461       0.459032   \n",
            "min              0.000000                   0.000000       0.000000   \n",
            "25%              0.000000                   0.000000       0.000000   \n",
            "50%              0.000000                   0.000000       0.000000   \n",
            "75%              0.000000                   0.000000       1.000000   \n",
            "max              1.000000                   1.000000       1.000000   \n",
            "\n",
            "         Diagnosis  \n",
            "count  2149.000000  \n",
            "mean      0.353653  \n",
            "std       0.478214  \n",
            "min       0.000000  \n",
            "25%       0.000000  \n",
            "50%       0.000000  \n",
            "75%       1.000000  \n",
            "max       1.000000  \n",
            "\n",
            "[8 rows x 34 columns]\n"
          ]
        }
      ]
    },
    {
      "cell_type": "code",
      "source": [
        "# Asumsikan kolom terakhir adalah label\n",
        "X = data.drop(columns=['PatientID', 'DoctorInCharge', 'Diagnosis'])\n",
        "y = pd.get_dummies(data['Diagnosis'], drop_first=True)  # One-hot encoding jika diagnosisnya kategorikal"
      ],
      "metadata": {
        "id": "tRZ2jYWkhubW"
      },
      "execution_count": null,
      "outputs": []
    },
    {
      "cell_type": "markdown",
      "source": [
        "# **Pembagian Data**"
      ],
      "metadata": {
        "id": "ut41_6Txhzxj"
      }
    },
    {
      "cell_type": "code",
      "source": [
        "# Membagi data dengan rasio 80:20\n",
        "X_train, X_test, y_train, y_test = train_test_split(X, y, test_size=0.2, random_state=42)"
      ],
      "metadata": {
        "id": "IRyqqWJQhwlB"
      },
      "execution_count": null,
      "outputs": []
    },
    {
      "cell_type": "code",
      "source": [
        "# Standarisasi fitur\n",
        "scaler = StandardScaler()\n",
        "X_train = scaler.fit_transform(X_train)\n",
        "X_test = scaler.transform(X_test)"
      ],
      "metadata": {
        "id": "FBbKp8t-h3CG"
      },
      "execution_count": null,
      "outputs": []
    },
    {
      "cell_type": "markdown",
      "source": [
        "# **XGBoost**"
      ],
      "metadata": {
        "id": "RQpTW4ypiI90"
      }
    },
    {
      "cell_type": "code",
      "source": [
        "# Definisikan model XGBoost\n",
        "model = XGBClassifier(use_label_encoder=False, eval_metric='logloss')"
      ],
      "metadata": {
        "id": "Denw8EgEh5A8"
      },
      "execution_count": null,
      "outputs": []
    },
    {
      "cell_type": "code",
      "source": [
        "# K-Fold Cross Validation\n",
        "k = 10\n",
        "kfold = KFold(n_splits=k, shuffle=True, random_state=42)"
      ],
      "metadata": {
        "id": "2NR5LPNXiMKh"
      },
      "execution_count": null,
      "outputs": []
    },
    {
      "cell_type": "code",
      "source": [
        "# Evaluasi model menggunakan cross_val_score\n",
        "scores = cross_val_score(model, X, y, cv=kfold)"
      ],
      "metadata": {
        "id": "U-X5HWZeiODX"
      },
      "execution_count": null,
      "outputs": []
    },
    {
      "cell_type": "code",
      "source": [
        "# Latih model pada set pelatihan\n",
        "model.fit(X_train, y_train)"
      ],
      "metadata": {
        "colab": {
          "base_uri": "https://localhost:8080/",
          "height": 248
        },
        "id": "L6S7DRoDiQTr",
        "outputId": "230f8493-91f1-47ad-805d-0c8ec6584cfa"
      },
      "execution_count": null,
      "outputs": [
        {
          "output_type": "execute_result",
          "data": {
            "text/plain": [
              "XGBClassifier(base_score=None, booster=None, callbacks=None,\n",
              "              colsample_bylevel=None, colsample_bynode=None,\n",
              "              colsample_bytree=None, device=None, early_stopping_rounds=None,\n",
              "              enable_categorical=False, eval_metric='logloss',\n",
              "              feature_types=None, gamma=None, grow_policy=None,\n",
              "              importance_type=None, interaction_constraints=None,\n",
              "              learning_rate=None, max_bin=None, max_cat_threshold=None,\n",
              "              max_cat_to_onehot=None, max_delta_step=None, max_depth=None,\n",
              "              max_leaves=None, min_child_weight=None, missing=nan,\n",
              "              monotone_constraints=None, multi_strategy=None, n_estimators=None,\n",
              "              n_jobs=None, num_parallel_tree=None, random_state=None, ...)"
            ],
            "text/html": [
              "<style>#sk-container-id-1 {color: black;}#sk-container-id-1 pre{padding: 0;}#sk-container-id-1 div.sk-toggleable {background-color: white;}#sk-container-id-1 label.sk-toggleable__label {cursor: pointer;display: block;width: 100%;margin-bottom: 0;padding: 0.3em;box-sizing: border-box;text-align: center;}#sk-container-id-1 label.sk-toggleable__label-arrow:before {content: \"▸\";float: left;margin-right: 0.25em;color: #696969;}#sk-container-id-1 label.sk-toggleable__label-arrow:hover:before {color: black;}#sk-container-id-1 div.sk-estimator:hover label.sk-toggleable__label-arrow:before {color: black;}#sk-container-id-1 div.sk-toggleable__content {max-height: 0;max-width: 0;overflow: hidden;text-align: left;background-color: #f0f8ff;}#sk-container-id-1 div.sk-toggleable__content pre {margin: 0.2em;color: black;border-radius: 0.25em;background-color: #f0f8ff;}#sk-container-id-1 input.sk-toggleable__control:checked~div.sk-toggleable__content {max-height: 200px;max-width: 100%;overflow: auto;}#sk-container-id-1 input.sk-toggleable__control:checked~label.sk-toggleable__label-arrow:before {content: \"▾\";}#sk-container-id-1 div.sk-estimator input.sk-toggleable__control:checked~label.sk-toggleable__label {background-color: #d4ebff;}#sk-container-id-1 div.sk-label input.sk-toggleable__control:checked~label.sk-toggleable__label {background-color: #d4ebff;}#sk-container-id-1 input.sk-hidden--visually {border: 0;clip: rect(1px 1px 1px 1px);clip: rect(1px, 1px, 1px, 1px);height: 1px;margin: -1px;overflow: hidden;padding: 0;position: absolute;width: 1px;}#sk-container-id-1 div.sk-estimator {font-family: monospace;background-color: #f0f8ff;border: 1px dotted black;border-radius: 0.25em;box-sizing: border-box;margin-bottom: 0.5em;}#sk-container-id-1 div.sk-estimator:hover {background-color: #d4ebff;}#sk-container-id-1 div.sk-parallel-item::after {content: \"\";width: 100%;border-bottom: 1px solid gray;flex-grow: 1;}#sk-container-id-1 div.sk-label:hover label.sk-toggleable__label {background-color: #d4ebff;}#sk-container-id-1 div.sk-serial::before {content: \"\";position: absolute;border-left: 1px solid gray;box-sizing: border-box;top: 0;bottom: 0;left: 50%;z-index: 0;}#sk-container-id-1 div.sk-serial {display: flex;flex-direction: column;align-items: center;background-color: white;padding-right: 0.2em;padding-left: 0.2em;position: relative;}#sk-container-id-1 div.sk-item {position: relative;z-index: 1;}#sk-container-id-1 div.sk-parallel {display: flex;align-items: stretch;justify-content: center;background-color: white;position: relative;}#sk-container-id-1 div.sk-item::before, #sk-container-id-1 div.sk-parallel-item::before {content: \"\";position: absolute;border-left: 1px solid gray;box-sizing: border-box;top: 0;bottom: 0;left: 50%;z-index: -1;}#sk-container-id-1 div.sk-parallel-item {display: flex;flex-direction: column;z-index: 1;position: relative;background-color: white;}#sk-container-id-1 div.sk-parallel-item:first-child::after {align-self: flex-end;width: 50%;}#sk-container-id-1 div.sk-parallel-item:last-child::after {align-self: flex-start;width: 50%;}#sk-container-id-1 div.sk-parallel-item:only-child::after {width: 0;}#sk-container-id-1 div.sk-dashed-wrapped {border: 1px dashed gray;margin: 0 0.4em 0.5em 0.4em;box-sizing: border-box;padding-bottom: 0.4em;background-color: white;}#sk-container-id-1 div.sk-label label {font-family: monospace;font-weight: bold;display: inline-block;line-height: 1.2em;}#sk-container-id-1 div.sk-label-container {text-align: center;}#sk-container-id-1 div.sk-container {/* jupyter's `normalize.less` sets `[hidden] { display: none; }` but bootstrap.min.css set `[hidden] { display: none !important; }` so we also need the `!important` here to be able to override the default hidden behavior on the sphinx rendered scikit-learn.org. See: https://github.com/scikit-learn/scikit-learn/issues/21755 */display: inline-block !important;position: relative;}#sk-container-id-1 div.sk-text-repr-fallback {display: none;}</style><div id=\"sk-container-id-1\" class=\"sk-top-container\"><div class=\"sk-text-repr-fallback\"><pre>XGBClassifier(base_score=None, booster=None, callbacks=None,\n",
              "              colsample_bylevel=None, colsample_bynode=None,\n",
              "              colsample_bytree=None, device=None, early_stopping_rounds=None,\n",
              "              enable_categorical=False, eval_metric=&#x27;logloss&#x27;,\n",
              "              feature_types=None, gamma=None, grow_policy=None,\n",
              "              importance_type=None, interaction_constraints=None,\n",
              "              learning_rate=None, max_bin=None, max_cat_threshold=None,\n",
              "              max_cat_to_onehot=None, max_delta_step=None, max_depth=None,\n",
              "              max_leaves=None, min_child_weight=None, missing=nan,\n",
              "              monotone_constraints=None, multi_strategy=None, n_estimators=None,\n",
              "              n_jobs=None, num_parallel_tree=None, random_state=None, ...)</pre><b>In a Jupyter environment, please rerun this cell to show the HTML representation or trust the notebook. <br />On GitHub, the HTML representation is unable to render, please try loading this page with nbviewer.org.</b></div><div class=\"sk-container\" hidden><div class=\"sk-item\"><div class=\"sk-estimator sk-toggleable\"><input class=\"sk-toggleable__control sk-hidden--visually\" id=\"sk-estimator-id-1\" type=\"checkbox\" checked><label for=\"sk-estimator-id-1\" class=\"sk-toggleable__label sk-toggleable__label-arrow\">XGBClassifier</label><div class=\"sk-toggleable__content\"><pre>XGBClassifier(base_score=None, booster=None, callbacks=None,\n",
              "              colsample_bylevel=None, colsample_bynode=None,\n",
              "              colsample_bytree=None, device=None, early_stopping_rounds=None,\n",
              "              enable_categorical=False, eval_metric=&#x27;logloss&#x27;,\n",
              "              feature_types=None, gamma=None, grow_policy=None,\n",
              "              importance_type=None, interaction_constraints=None,\n",
              "              learning_rate=None, max_bin=None, max_cat_threshold=None,\n",
              "              max_cat_to_onehot=None, max_delta_step=None, max_depth=None,\n",
              "              max_leaves=None, min_child_weight=None, missing=nan,\n",
              "              monotone_constraints=None, multi_strategy=None, n_estimators=None,\n",
              "              n_jobs=None, num_parallel_tree=None, random_state=None, ...)</pre></div></div></div></div></div>"
            ]
          },
          "metadata": {},
          "execution_count": 12
        }
      ]
    },
    {
      "cell_type": "code",
      "source": [
        "# Hasil prediksi\n",
        "y_pred = model.predict(X_test)"
      ],
      "metadata": {
        "id": "3uhUm9b7iSGv"
      },
      "execution_count": null,
      "outputs": []
    },
    {
      "cell_type": "code",
      "source": [
        "# Tampilkan Classification Report dan Accuracy\n",
        "print(\"Classification Report XGBoost\")\n",
        "print(classification_report(y_test, y_pred))\n",
        "print('Model accuracy score: {0:0.4f}'.format(accuracy_score(y_test, y_pred)))"
      ],
      "metadata": {
        "colab": {
          "base_uri": "https://localhost:8080/"
        },
        "id": "rz4C8yeZiTyX",
        "outputId": "f4a35e46-6ce3-4e66-bae4-df444ead1638"
      },
      "execution_count": null,
      "outputs": [
        {
          "output_type": "stream",
          "name": "stdout",
          "text": [
            "Classification Report XGBoost\n",
            "              precision    recall  f1-score   support\n",
            "\n",
            "       False       0.94      0.98      0.96       277\n",
            "        True       0.96      0.90      0.93       153\n",
            "\n",
            "    accuracy                           0.95       430\n",
            "   macro avg       0.95      0.94      0.94       430\n",
            "weighted avg       0.95      0.95      0.95       430\n",
            "\n",
            "Model accuracy score: 0.9488\n"
          ]
        }
      ]
    },
    {
      "cell_type": "code",
      "source": [
        "# Tampilkan Confusion Matrix\n",
        "def plot_confusion_matrix(y_true, y_pred, title):\n",
        "    cm = confusion_matrix(y_true, y_pred)\n",
        "    sns.heatmap(cm, annot=True, fmt='d', cmap='Blues', cbar=False)\n",
        "    plt.xlabel('Predicted')\n",
        "    plt.ylabel('True')\n",
        "    plt.title(title)\n",
        "    plt.show()\n",
        "\n",
        "plot_confusion_matrix(y_test, y_pred, \"Confusion Matrix\")"
      ],
      "metadata": {
        "colab": {
          "base_uri": "https://localhost:8080/",
          "height": 472
        },
        "id": "xuoy_pu_iV6-",
        "outputId": "0b682d5a-ea06-47dd-874c-3875189eb0cc"
      },
      "execution_count": null,
      "outputs": [
        {
          "output_type": "display_data",
          "data": {
            "text/plain": [
              "<Figure size 640x480 with 1 Axes>"
            ],
            "image/png": "[encoded data removed]"
          },
          "metadata": {}
        }
      ]
    },
    {
      "cell_type": "markdown",
      "source": [
        "# **Grid Search**"
      ],
      "metadata": {
        "id": "i_6oJLZYiYrf"
      }
    },
    {
      "cell_type": "code",
      "source": [
        "# Definisikan parameter grid untuk GridSearchCV\n",
        "param_grid = {\n",
        "    'max_depth': [3, 4, 5, 6],\n",
        "    'learning_rate': [0.01, 0.1, 0.2, 0.3],\n",
        "    'n_estimators': [50, 100, 150],\n",
        "    'subsample': [0.6, 0.8, 1.0],\n",
        "    'colsample_bytree': [0.6, 0.8, 1.0]\n",
        "}"
      ],
      "metadata": {
        "id": "frbDLMbEibel"
      },
      "execution_count": null,
      "outputs": []
    },
    {
      "cell_type": "code",
      "source": [
        "# Setup validasi silang K-fold dengan n_splits=10\n",
        "kf = KFold(n_splits=10, shuffle=True, random_state=42)"
      ],
      "metadata": {
        "id": "17L5OCVlidtX"
      },
      "execution_count": null,
      "outputs": []
    },
    {
      "cell_type": "code",
      "source": [
        "# Menjalankan GridSearchCV\n",
        "grid_search = GridSearchCV(estimator=XGBClassifier(use_label_encoder=False, eval_metric='logloss'),\n",
        "                           param_grid=param_grid, cv=kf, scoring='accuracy', n_jobs=-1, verbose=1)\n",
        "\n",
        "grid_search.fit(X_train, y_train)"
      ],
      "metadata": {
        "colab": {
          "base_uri": "https://localhost:8080/",
          "height": 135
        },
        "id": "Ux-6QF6Fifl4",
        "outputId": "6020ca93-125e-4a66-d3b5-784e088235a4"
      },
      "execution_count": null,
      "outputs": [
        {
          "output_type": "stream",
          "name": "stdout",
          "text": [
            "Fitting 10 folds for each of 432 candidates, totalling 4320 fits\n"
          ]
        },
        {
          "output_type": "execute_result",
          "data": {
            "text/plain": [
              "GridSearchCV(cv=KFold(n_splits=10, random_state=42, shuffle=True),\n",
              "             estimator=XGBClassifier(base_score=None, booster=None,\n",
              "                                     callbacks=None, colsample_bylevel=None,\n",
              "                                     colsample_bynode=None,\n",
              "                                     colsample_bytree=None, device=None,\n",
              "                                     early_stopping_rounds=None,\n",
              "                                     enable_categorical=False,\n",
              "                                     eval_metric='logloss', feature_types=None,\n",
              "                                     gamma=None, grow_policy=None,\n",
              "                                     importance_type=No...\n",
              "                                     max_leaves=None, min_child_weight=None,\n",
              "                                     missing=nan, monotone_constraints=None,\n",
              "                                     multi_strategy=None, n_estimators=None,\n",
              "                                     n_jobs=None, num_parallel_tree=None,\n",
              "                                     random_state=None, ...),\n",
              "             n_jobs=-1,\n",
              "             param_grid={'colsample_bytree': [0.6, 0.8, 1.0],\n",
              "                         'learning_rate': [0.01, 0.1, 0.2, 0.3],\n",
              "                         'max_depth': [3, 4, 5, 6],\n",
              "                         'n_estimators': [50, 100, 150],\n",
              "                         'subsample': [0.6, 0.8, 1.0]},\n",
              "             scoring='accuracy', verbose=1)"
            ],
            "text/html": [
              "<style>#sk-container-id-2 {color: black;}#sk-container-id-2 pre{padding: 0;}#sk-container-id-2 div.sk-toggleable {background-color: white;}#sk-container-id-2 label.sk-toggleable__label {cursor: pointer;display: block;width: 100%;margin-bottom: 0;padding: 0.3em;box-sizing: border-box;text-align: center;}#sk-container-id-2 label.sk-toggleable__label-arrow:before {content: \"▸\";float: left;margin-right: 0.25em;color: #696969;}#sk-container-id-2 label.sk-toggleable__label-arrow:hover:before {color: black;}#sk-container-id-2 div.sk-estimator:hover label.sk-toggleable__label-arrow:before {color: black;}#sk-container-id-2 div.sk-toggleable__content {max-height: 0;max-width: 0;overflow: hidden;text-align: left;background-color: #f0f8ff;}#sk-container-id-2 div.sk-toggleable__content pre {margin: 0.2em;color: black;border-radius: 0.25em;background-color: #f0f8ff;}#sk-container-id-2 input.sk-toggleable__control:checked~div.sk-toggleable__content {max-height: 200px;max-width: 100%;overflow: auto;}#sk-container-id-2 input.sk-toggleable__control:checked~label.sk-toggleable__label-arrow:before {content: \"▾\";}#sk-container-id-2 div.sk-estimator input.sk-toggleable__control:checked~label.sk-toggleable__label {background-color: #d4ebff;}#sk-container-id-2 div.sk-label input.sk-toggleable__control:checked~label.sk-toggleable__label {background-color: #d4ebff;}#sk-container-id-2 input.sk-hidden--visually {border: 0;clip: rect(1px 1px 1px 1px);clip: rect(1px, 1px, 1px, 1px);height: 1px;margin: -1px;overflow: hidden;padding: 0;position: absolute;width: 1px;}#sk-container-id-2 div.sk-estimator {font-family: monospace;background-color: #f0f8ff;border: 1px dotted black;border-radius: 0.25em;box-sizing: border-box;margin-bottom: 0.5em;}#sk-container-id-2 div.sk-estimator:hover {background-color: #d4ebff;}#sk-container-id-2 div.sk-parallel-item::after {content: \"\";width: 100%;border-bottom: 1px solid gray;flex-grow: 1;}#sk-container-id-2 div.sk-label:hover label.sk-toggleable__label {background-color: #d4ebff;}#sk-container-id-2 div.sk-serial::before {content: \"\";position: absolute;border-left: 1px solid gray;box-sizing: border-box;top: 0;bottom: 0;left: 50%;z-index: 0;}#sk-container-id-2 div.sk-serial {display: flex;flex-direction: column;align-items: center;background-color: white;padding-right: 0.2em;padding-left: 0.2em;position: relative;}#sk-container-id-2 div.sk-item {position: relative;z-index: 1;}#sk-container-id-2 div.sk-parallel {display: flex;align-items: stretch;justify-content: center;background-color: white;position: relative;}#sk-container-id-2 div.sk-item::before, #sk-container-id-2 div.sk-parallel-item::before {content: \"\";position: absolute;border-left: 1px solid gray;box-sizing: border-box;top: 0;bottom: 0;left: 50%;z-index: -1;}#sk-container-id-2 div.sk-parallel-item {display: flex;flex-direction: column;z-index: 1;position: relative;background-color: white;}#sk-container-id-2 div.sk-parallel-item:first-child::after {align-self: flex-end;width: 50%;}#sk-container-id-2 div.sk-parallel-item:last-child::after {align-self: flex-start;width: 50%;}#sk-container-id-2 div.sk-parallel-item:only-child::after {width: 0;}#sk-container-id-2 div.sk-dashed-wrapped {border: 1px dashed gray;margin: 0 0.4em 0.5em 0.4em;box-sizing: border-box;padding-bottom: 0.4em;background-color: white;}#sk-container-id-2 div.sk-label label {font-family: monospace;font-weight: bold;display: inline-block;line-height: 1.2em;}#sk-container-id-2 div.sk-label-container {text-align: center;}#sk-container-id-2 div.sk-container {/* jupyter's `normalize.less` sets `[hidden] { display: none; }` but bootstrap.min.css set `[hidden] { display: none !important; }` so we also need the `!important` here to be able to override the default hidden behavior on the sphinx rendered scikit-learn.org. See: https://github.com/scikit-learn/scikit-learn/issues/21755 */display: inline-block !important;position: relative;}#sk-container-id-2 div.sk-text-repr-fallback {display: none;}</style><div id=\"sk-container-id-2\" class=\"sk-top-container\"><div class=\"sk-text-repr-fallback\"><pre>GridSearchCV(cv=KFold(n_splits=10, random_state=42, shuffle=True),\n",
              "             estimator=XGBClassifier(base_score=None, booster=None,\n",
              "                                     callbacks=None, colsample_bylevel=None,\n",
              "                                     colsample_bynode=None,\n",
              "                                     colsample_bytree=None, device=None,\n",
              "                                     early_stopping_rounds=None,\n",
              "                                     enable_categorical=False,\n",
              "                                     eval_metric=&#x27;logloss&#x27;, feature_types=None,\n",
              "                                     gamma=None, grow_policy=None,\n",
              "                                     importance_type=No...\n",
              "                                     max_leaves=None, min_child_weight=None,\n",
              "                                     missing=nan, monotone_constraints=None,\n",
              "                                     multi_strategy=None, n_estimators=None,\n",
              "                                     n_jobs=None, num_parallel_tree=None,\n",
              "                                     random_state=None, ...),\n",
              "             n_jobs=-1,\n",
              "             param_grid={&#x27;colsample_bytree&#x27;: [0.6, 0.8, 1.0],\n",
              "                         &#x27;learning_rate&#x27;: [0.01, 0.1, 0.2, 0.3],\n",
              "                         &#x27;max_depth&#x27;: [3, 4, 5, 6],\n",
              "                         &#x27;n_estimators&#x27;: [50, 100, 150],\n",
              "                         &#x27;subsample&#x27;: [0.6, 0.8, 1.0]},\n",
              "             scoring=&#x27;accuracy&#x27;, verbose=1)</pre><b>In a Jupyter environment, please rerun this cell to show the HTML representation or trust the notebook. <br />On GitHub, the HTML representation is unable to render, please try loading this page with nbviewer.org.</b></div><div class=\"sk-container\" hidden><div class=\"sk-item sk-dashed-wrapped\"><div class=\"sk-label-container\"><div class=\"sk-label sk-toggleable\"><input class=\"sk-toggleable__control sk-hidden--visually\" id=\"sk-estimator-id-2\" type=\"checkbox\" ><label for=\"sk-estimator-id-2\" class=\"sk-toggleable__label sk-toggleable__label-arrow\">GridSearchCV</label><div class=\"sk-toggleable__content\"><pre>GridSearchCV(cv=KFold(n_splits=10, random_state=42, shuffle=True),\n",
              "             estimator=XGBClassifier(base_score=None, booster=None,\n",
              "                                     callbacks=None, colsample_bylevel=None,\n",
              "                                     colsample_bynode=None,\n",
              "                                     colsample_bytree=None, device=None,\n",
              "                                     early_stopping_rounds=None,\n",
              "                                     enable_categorical=False,\n",
              "                                     eval_metric=&#x27;logloss&#x27;, feature_types=None,\n",
              "                                     gamma=None, grow_policy=None,\n",
              "                                     importance_type=No...\n",
              "                                     max_leaves=None, min_child_weight=None,\n",
              "                                     missing=nan, monotone_constraints=None,\n",
              "                                     multi_strategy=None, n_estimators=None,\n",
              "                                     n_jobs=None, num_parallel_tree=None,\n",
              "                                     random_state=None, ...),\n",
              "             n_jobs=-1,\n",
              "             param_grid={&#x27;colsample_bytree&#x27;: [0.6, 0.8, 1.0],\n",
              "                         &#x27;learning_rate&#x27;: [0.01, 0.1, 0.2, 0.3],\n",
              "                         &#x27;max_depth&#x27;: [3, 4, 5, 6],\n",
              "                         &#x27;n_estimators&#x27;: [50, 100, 150],\n",
              "                         &#x27;subsample&#x27;: [0.6, 0.8, 1.0]},\n",
              "             scoring=&#x27;accuracy&#x27;, verbose=1)</pre></div></div></div><div class=\"sk-parallel\"><div class=\"sk-parallel-item\"><div class=\"sk-item\"><div class=\"sk-label-container\"><div class=\"sk-label sk-toggleable\"><input class=\"sk-toggleable__control sk-hidden--visually\" id=\"sk-estimator-id-3\" type=\"checkbox\" ><label for=\"sk-estimator-id-3\" class=\"sk-toggleable__label sk-toggleable__label-arrow\">estimator: XGBClassifier</label><div class=\"sk-toggleable__content\"><pre>XGBClassifier(base_score=None, booster=None, callbacks=None,\n",
              "              colsample_bylevel=None, colsample_bynode=None,\n",
              "              colsample_bytree=None, device=None, early_stopping_rounds=None,\n",
              "              enable_categorical=False, eval_metric=&#x27;logloss&#x27;,\n",
              "              feature_types=None, gamma=None, grow_policy=None,\n",
              "              importance_type=None, interaction_constraints=None,\n",
              "              learning_rate=None, max_bin=None, max_cat_threshold=None,\n",
              "              max_cat_to_onehot=None, max_delta_step=None, max_depth=None,\n",
              "              max_leaves=None, min_child_weight=None, missing=nan,\n",
              "              monotone_constraints=None, multi_strategy=None, n_estimators=None,\n",
              "              n_jobs=None, num_parallel_tree=None, random_state=None, ...)</pre></div></div></div><div class=\"sk-serial\"><div class=\"sk-item\"><div class=\"sk-estimator sk-toggleable\"><input class=\"sk-toggleable__control sk-hidden--visually\" id=\"sk-estimator-id-4\" type=\"checkbox\" ><label for=\"sk-estimator-id-4\" class=\"sk-toggleable__label sk-toggleable__label-arrow\">XGBClassifier</label><div class=\"sk-toggleable__content\"><pre>XGBClassifier(base_score=None, booster=None, callbacks=None,\n",
              "              colsample_bylevel=None, colsample_bynode=None,\n",
              "              colsample_bytree=None, device=None, early_stopping_rounds=None,\n",
              "              enable_categorical=False, eval_metric=&#x27;logloss&#x27;,\n",
              "              feature_types=None, gamma=None, grow_policy=None,\n",
              "              importance_type=None, interaction_constraints=None,\n",
              "              learning_rate=None, max_bin=None, max_cat_threshold=None,\n",
              "              max_cat_to_onehot=None, max_delta_step=None, max_depth=None,\n",
              "              max_leaves=None, min_child_weight=None, missing=nan,\n",
              "              monotone_constraints=None, multi_strategy=None, n_estimators=None,\n",
              "              n_jobs=None, num_parallel_tree=None, random_state=None, ...)</pre></div></div></div></div></div></div></div></div></div></div>"
            ]
          },
          "metadata": {},
          "execution_count": 18
        }
      ]
    },
    {
      "cell_type": "code",
      "source": [
        "# Mengambil hasil grid search\n",
        "cv_results = grid_search.cv_results_"
      ],
      "metadata": {
        "id": "_P30MtYSifhS"
      },
      "execution_count": null,
      "outputs": []
    },
    {
      "cell_type": "code",
      "source": [
        "# Menyusun hasil ke dalam DataFrame\n",
        "results_df = pd.DataFrame({\n",
        "    'parameter': cv_results['params'],\n",
        "    'mean_test_score': cv_results['mean_test_score'],\n",
        "    'rank_test_score': cv_results['rank_test_score']\n",
        "}).sort_values(by='rank_test_score')"
      ],
      "metadata": {
        "id": "u3Jf6S8TijNx"
      },
      "execution_count": null,
      "outputs": []
    },
    {
      "cell_type": "code",
      "source": [
        "# Menyusun hasil ke dalam DataFrame\n",
        "results_df = pd.DataFrame({\n",
        "    'parameter': cv_results['params'],\n",
        "    'mean_test_score': cv_results['mean_test_score'],\n",
        "    'rank_test_score': cv_results['rank_test_score']\n",
        "}).sort_values(by='rank_test_score')"
      ],
      "metadata": {
        "id": "h1rbgUhdils6"
      },
      "execution_count": null,
      "outputs": []
    },
    {
      "cell_type": "code",
      "source": [
        "# Menampilkan hasil perbandingan parameter\n",
        "print(\"\\nHasil Perbandingan Hyperparameter XGBoost:\")\n",
        "print(results_df)"
      ],
      "metadata": {
        "colab": {
          "base_uri": "https://localhost:8080/"
        },
        "id": "X--ZzWj6indG",
        "outputId": "ccd03cf8-13c8-424d-c83f-ccebe210f7d2"
      },
      "execution_count": null,
      "outputs": [
        {
          "output_type": "stream",
          "name": "stdout",
          "text": [
            "\n",
            "Hasil Perbandingan Hyperparameter XGBoost:\n",
            "                                             parameter  mean_test_score  \\\n",
            "310  {'colsample_bytree': 1.0, 'learning_rate': 0.0...         0.952298   \n",
            "50   {'colsample_bytree': 0.6, 'learning_rate': 0.1...         0.951717   \n",
            "182  {'colsample_bytree': 0.8, 'learning_rate': 0.1...         0.951717   \n",
            "312  {'colsample_bytree': 1.0, 'learning_rate': 0.0...         0.951717   \n",
            "185  {'colsample_bytree': 0.8, 'learning_rate': 0.1...         0.951717   \n",
            "..                                                 ...              ...   \n",
            "11   {'colsample_bytree': 0.6, 'learning_rate': 0.0...         0.719580   \n",
            "10   {'colsample_bytree': 0.6, 'learning_rate': 0.0...         0.718999   \n",
            "2    {'colsample_bytree': 0.6, 'learning_rate': 0.0...         0.718996   \n",
            "1    {'colsample_bytree': 0.6, 'learning_rate': 0.0...         0.715507   \n",
            "0    {'colsample_bytree': 0.6, 'learning_rate': 0.0...         0.714926   \n",
            "\n",
            "     rank_test_score  \n",
            "310                1  \n",
            "50                 2  \n",
            "182                2  \n",
            "312                2  \n",
            "185                2  \n",
            "..               ...  \n",
            "11               428  \n",
            "10               429  \n",
            "2                430  \n",
            "1                431  \n",
            "0                432  \n",
            "\n",
            "[432 rows x 3 columns]\n"
          ]
        }
      ]
    },
    {
      "cell_type": "code",
      "source": [
        "# Menguji model terbaik pada data testing\n",
        "best_model = grid_search.best_estimator_\n",
        "y_pred = best_model.predict(X_test)"
      ],
      "metadata": {
        "id": "UWYXyhEuiq-D"
      },
      "execution_count": null,
      "outputs": []
    },
    {
      "cell_type": "code",
      "source": [
        "# Akurasi pada data uji\n",
        "test_accuracy = best_model.score(X_test, y_test)\n",
        "print(f\"Akurasi pada data uji: {test_accuracy:.4f}\")\n",
        "print(\"Best parameters found: \", grid_search.best_params_)\n",
        "print(\"Best cross-validation score: \", grid_search.best_score_)\n",
        "print(\"Best estimator: \", grid_search.best_estimator_)"
      ],
      "metadata": {
        "colab": {
          "base_uri": "https://localhost:8080/"
        },
        "id": "OBvWRZYqisim",
        "outputId": "77993df6-ab0a-4c61-eeac-529eb934a352"
      },
      "execution_count": null,
      "outputs": [
        {
          "output_type": "stream",
          "name": "stdout",
          "text": [
            "Akurasi pada data uji: 0.9558\n",
            "Best parameters found:  {'colsample_bytree': 1.0, 'learning_rate': 0.01, 'max_depth': 5, 'n_estimators': 100, 'subsample': 0.8}\n",
            "Best cross-validation score:  0.9522983816129471\n",
            "Best estimator:  XGBClassifier(base_score=None, booster=None, callbacks=None,\n",
            "              colsample_bylevel=None, colsample_bynode=None,\n",
            "              colsample_bytree=1.0, device=None, early_stopping_rounds=None,\n",
            "              enable_categorical=False, eval_metric='logloss',\n",
            "              feature_types=None, gamma=None, grow_policy=None,\n",
            "              importance_type=None, interaction_constraints=None,\n",
            "              learning_rate=0.01, max_bin=None, max_cat_threshold=None,\n",
            "              max_cat_to_onehot=None, max_delta_step=None, max_depth=5,\n",
            "              max_leaves=None, min_child_weight=None, missing=nan,\n",
            "              monotone_constraints=None, multi_strategy=None, n_estimators=100,\n",
            "              n_jobs=None, num_parallel_tree=None, random_state=None, ...)\n"
          ]
        }
      ]
    },
    {
      "cell_type": "code",
      "source": [
        "# Tampilkan Confusion Matrix dan Classification Report setelah optimasi\n",
        "print(\"Classification Report XGBoost setelah Optimasi\")\n",
        "print(confusion_matrix(y_test, y_pred))\n",
        "print(classification_report(y_test, y_pred))\n",
        "print('Model accuracy score setelah optimasi: {0:0.4f}'.format(accuracy_score(y_test, y_pred)))\n",
        "plot_confusion_matrix(y_test, y_pred, \"Confusion Matrix setelah Optimasi\")"
      ],
      "metadata": {
        "colab": {
          "base_uri": "https://localhost:8080/",
          "height": 709
        },
        "id": "vckniZGciu-V",
        "outputId": "34a45e55-e8ad-438c-fe7e-19f76a242e3b"
      },
      "execution_count": null,
      "outputs": [
        {
          "output_type": "stream",
          "name": "stdout",
          "text": [
            "Classification Report XGBoost setelah Optimasi\n",
            "[[271   6]\n",
            " [ 13 140]]\n",
            "              precision    recall  f1-score   support\n",
            "\n",
            "       False       0.95      0.98      0.97       277\n",
            "        True       0.96      0.92      0.94       153\n",
            "\n",
            "    accuracy                           0.96       430\n",
            "   macro avg       0.96      0.95      0.95       430\n",
            "weighted avg       0.96      0.96      0.96       430\n",
            "\n",
            "Model accuracy score setelah optimasi: 0.9558\n"
          ]
        },
        {
          "output_type": "display_data",
          "data": {
            "text/plain": [
              "<Figure size 640x480 with 1 Axes>"
            ],
            "image/png": "[encoded data removed]"
          },
          "metadata": {}
        }
      ]
    }
  ]
}