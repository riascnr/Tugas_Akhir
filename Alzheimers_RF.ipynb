{
  "cells": [
    {
      "cell_type": "markdown",
      "metadata": {
        "id": "3pHCcQFV-S5R"
      },
      "source": [
        "# **Import Library**"
      ]
    },
    {
      "cell_type": "code",
      "execution_count": null,
      "metadata": {
        "id": "01dGg2Pp-V51"
      },
      "outputs": [],
      "source": [
        "import numpy as np\n",
        "import pandas as pd\n",
        "import matplotlib.pyplot as plt\n",
        "import seaborn as sns\n",
        "import warnings\n",
        "warnings.filterwarnings('ignore')\n",
        "\n",
        "from sklearn.decomposition import PCA\n",
        "from sklearn.ensemble import RandomForestClassifier\n",
        "from sklearn.model_selection import GridSearchCV, train_test_split, KFold, RepeatedKFold, cross_val_score\n",
        "from sklearn.pipeline import Pipeline\n",
        "from sklearn.preprocessing import StandardScaler\n",
        "from sklearn.metrics import classification_report, confusion_matrix, accuracy_score"
      ]
    },
    {
      "cell_type": "markdown",
      "metadata": {
        "id": "iyzmJhBM-cvX"
      },
      "source": [
        "# **Load Data**"
      ]
    },
    {
      "cell_type": "code",
      "execution_count": null,
      "metadata": {
        "colab": {
          "base_uri": "https://localhost:8080/"
        },
        "id": "bCLnbFd1-bU3",
        "outputId": "a9404ca6-18e1-4ba6-cb65-719c5713b148"
      },
      "outputs": [
        {
          "name": "stdout",
          "output_type": "stream",
          "text": [
            "<class 'pandas.core.frame.DataFrame'>\n",
            "RangeIndex: 2149 entries, 0 to 2148\n",
            "Data columns (total 35 columns):\n",
            " #   Column                     Non-Null Count  Dtype  \n",
            "---  ------                     --------------  -----  \n",
            " 0   PatientID                  2149 non-null   int64  \n",
            " 1   Age                        2149 non-null   int64  \n",
            " 2   Gender                     2149 non-null   int64  \n",
            " 3   Ethnicity                  2149 non-null   int64  \n",
            " 4   EducationLevel             2149 non-null   int64  \n",
            " 5   BMI                        2149 non-null   float64\n",
            " 6   Smoking                    2149 non-null   int64  \n",
            " 7   AlcoholConsumption         2149 non-null   float64\n",
            " 8   PhysicalActivity           2149 non-null   float64\n",
            " 9   DietQuality                2149 non-null   float64\n",
            " 10  SleepQuality               2149 non-null   float64\n",
            " 11  FamilyHistoryAlzheimers    2149 non-null   int64  \n",
            " 12  CardiovascularDisease      2149 non-null   int64  \n",
            " 13  Diabetes                   2149 non-null   int64  \n",
            " 14  Depression                 2149 non-null   int64  \n",
            " 15  HeadInjury                 2149 non-null   int64  \n",
            " 16  Hypertension               2149 non-null   int64  \n",
            " 17  SystolicBP                 2149 non-null   int64  \n",
            " 18  DiastolicBP                2149 non-null   int64  \n",
            " 19  CholesterolTotal           2149 non-null   float64\n",
            " 20  CholesterolLDL             2149 non-null   float64\n",
            " 21  CholesterolHDL             2149 non-null   float64\n",
            " 22  CholesterolTriglycerides   2149 non-null   float64\n",
            " 23  MMSE                       2149 non-null   float64\n",
            " 24  FunctionalAssessment       2149 non-null   float64\n",
            " 25  MemoryComplaints           2149 non-null   int64  \n",
            " 26  BehavioralProblems         2149 non-null   int64  \n",
            " 27  ADL                        2149 non-null   float64\n",
            " 28  Confusion                  2149 non-null   int64  \n",
            " 29  Disorientation             2149 non-null   int64  \n",
            " 30  PersonalityChanges         2149 non-null   int64  \n",
            " 31  DifficultyCompletingTasks  2149 non-null   int64  \n",
            " 32  Forgetfulness              2149 non-null   int64  \n",
            " 33  Diagnosis                  2149 non-null   int64  \n",
            " 34  DoctorInCharge             2149 non-null   object \n",
            "dtypes: float64(12), int64(22), object(1)\n",
            "memory usage: 587.7+ KB\n",
            "None\n"
          ]
        }
      ],
      "source": [
        "# Assumes your dataset is in a CSV file called 'alzheimers_disease_data.csv'\n",
        "data = pd.read_csv('alzheimers_disease_data.csv')\n",
        "print(data.info())"
      ]
    },
    {
      "cell_type": "markdown",
      "metadata": {
        "id": "tdYNz-L4-olM"
      },
      "source": [
        "# **Preprocessing Data**"
      ]
    },
    {
      "cell_type": "code",
      "execution_count": null,
      "metadata": {
        "colab": {
          "base_uri": "https://localhost:8080/"
        },
        "id": "BOfiw0YKA-mb",
        "outputId": "c7a98527-0dfb-4d19-c2fb-1fbcb407bb07"
      },
      "outputs": [
        {
          "name": "stdout",
          "output_type": "stream",
          "text": [
            "Missing values per column:\n",
            "PatientID                    0\n",
            "Age                          0\n",
            "Gender                       0\n",
            "Ethnicity                    0\n",
            "EducationLevel               0\n",
            "BMI                          0\n",
            "Smoking                      0\n",
            "AlcoholConsumption           0\n",
            "PhysicalActivity             0\n",
            "DietQuality                  0\n",
            "SleepQuality                 0\n",
            "FamilyHistoryAlzheimers      0\n",
            "CardiovascularDisease        0\n",
            "Diabetes                     0\n",
            "Depression                   0\n",
            "HeadInjury                   0\n",
            "Hypertension                 0\n",
            "SystolicBP                   0\n",
            "DiastolicBP                  0\n",
            "CholesterolTotal             0\n",
            "CholesterolLDL               0\n",
            "CholesterolHDL               0\n",
            "CholesterolTriglycerides     0\n",
            "MMSE                         0\n",
            "FunctionalAssessment         0\n",
            "MemoryComplaints             0\n",
            "BehavioralProblems           0\n",
            "ADL                          0\n",
            "Confusion                    0\n",
            "Disorientation               0\n",
            "PersonalityChanges           0\n",
            "DifficultyCompletingTasks    0\n",
            "Forgetfulness                0\n",
            "Diagnosis                    0\n",
            "DoctorInCharge               0\n",
            "dtype: int64\n"
          ]
        }
      ],
      "source": [
        "# Check for missing values\n",
        "print(\"Missing values per column:\")\n",
        "print(data.isnull().sum())"
      ]
    },
    {
      "cell_type": "code",
      "execution_count": null,
      "metadata": {
        "id": "siSyp7TqBDmg"
      },
      "outputs": [],
      "source": [
        "# Menghilangkan nilai yang hilang\n",
        "data = data.dropna()"
      ]
    },
    {
      "cell_type": "code",
      "execution_count": null,
      "metadata": {
        "colab": {
          "base_uri": "https://localhost:8080/"
        },
        "id": "1JRK58g0BFqv",
        "outputId": "55ee9d25-24c0-4b25-dbdc-5ca8dd529924"
      },
      "outputs": [
        {
          "name": "stdout",
          "output_type": "stream",
          "text": [
            "         PatientID          Age       Gender    Ethnicity  EducationLevel  \\\n",
            "count  2149.000000  2149.000000  2149.000000  2149.000000     2149.000000   \n",
            "mean   5825.000000    74.908795     0.506282     0.697534        1.286645   \n",
            "std     620.507185     8.990221     0.500077     0.996128        0.904527   \n",
            "min    4751.000000    60.000000     0.000000     0.000000        0.000000   \n",
            "25%    5288.000000    67.000000     0.000000     0.000000        1.000000   \n",
            "50%    5825.000000    75.000000     1.000000     0.000000        1.000000   \n",
            "75%    6362.000000    83.000000     1.000000     1.000000        2.000000   \n",
            "max    6899.000000    90.000000     1.000000     3.000000        3.000000   \n",
            "\n",
            "               BMI      Smoking  AlcoholConsumption  PhysicalActivity  \\\n",
            "count  2149.000000  2149.000000         2149.000000       2149.000000   \n",
            "mean     27.655697     0.288506           10.039442          4.920202   \n",
            "std       7.217438     0.453173            5.757910          2.857191   \n",
            "min      15.008851     0.000000            0.002003          0.003616   \n",
            "25%      21.611408     0.000000            5.139810          2.570626   \n",
            "50%      27.823924     0.000000            9.934412          4.766424   \n",
            "75%      33.869778     1.000000           15.157931          7.427899   \n",
            "max      39.992767     1.000000           19.989293          9.987429   \n",
            "\n",
            "       DietQuality  ...  FunctionalAssessment  MemoryComplaints  \\\n",
            "count  2149.000000  ...           2149.000000       2149.000000   \n",
            "mean      4.993138  ...              5.080055          0.208004   \n",
            "std       2.909055  ...              2.892743          0.405974   \n",
            "min       0.009385  ...              0.000460          0.000000   \n",
            "25%       2.458455  ...              2.566281          0.000000   \n",
            "50%       5.076087  ...              5.094439          0.000000   \n",
            "75%       7.558625  ...              7.546981          0.000000   \n",
            "max       9.998346  ...              9.996467          1.000000   \n",
            "\n",
            "       BehavioralProblems          ADL    Confusion  Disorientation  \\\n",
            "count         2149.000000  2149.000000  2149.000000     2149.000000   \n",
            "mean             0.156817     4.982958     0.205212        0.158213   \n",
            "std              0.363713     2.949775     0.403950        0.365026   \n",
            "min              0.000000     0.001288     0.000000        0.000000   \n",
            "25%              0.000000     2.342836     0.000000        0.000000   \n",
            "50%              0.000000     5.038973     0.000000        0.000000   \n",
            "75%              0.000000     7.581490     0.000000        0.000000   \n",
            "max              1.000000     9.999747     1.000000        1.000000   \n",
            "\n",
            "       PersonalityChanges  DifficultyCompletingTasks  Forgetfulness  \\\n",
            "count         2149.000000                2149.000000    2149.000000   \n",
            "mean             0.150768                   0.158678       0.301536   \n",
            "std              0.357906                   0.365461       0.459032   \n",
            "min              0.000000                   0.000000       0.000000   \n",
            "25%              0.000000                   0.000000       0.000000   \n",
            "50%              0.000000                   0.000000       0.000000   \n",
            "75%              0.000000                   0.000000       1.000000   \n",
            "max              1.000000                   1.000000       1.000000   \n",
            "\n",
            "         Diagnosis  \n",
            "count  2149.000000  \n",
            "mean      0.353653  \n",
            "std       0.478214  \n",
            "min       0.000000  \n",
            "25%       0.000000  \n",
            "50%       0.000000  \n",
            "75%       1.000000  \n",
            "max       1.000000  \n",
            "\n",
            "[8 rows x 34 columns]\n"
          ]
        }
      ],
      "source": [
        "# Menghilangkan data duplikat\n",
        "data = data.drop_duplicates()\n",
        "print(data.describe())"
      ]
    },
    {
      "cell_type": "code",
      "execution_count": null,
      "metadata": {
        "id": "9dBBr0Jx-q6K"
      },
      "outputs": [],
      "source": [
        "# Asumsikan kolom terakhir adalah label\n",
        "X = data.drop(columns=['PatientID', 'DoctorInCharge', 'Diagnosis'])\n",
        "y = data['Diagnosis']"
      ]
    },
    {
      "cell_type": "markdown",
      "metadata": {
        "id": "W7_7O-Su-yIw"
      },
      "source": [
        "# **Train/Test Split**"
      ]
    },
    {
      "cell_type": "code",
      "execution_count": null,
      "metadata": {
        "id": "z28pWoCw-1B9"
      },
      "outputs": [],
      "source": [
        "# Split the data into training and testing sets with an 80:20 ratio\n",
        "X_train, X_test, y_train, y_test = train_test_split(X, y, test_size=0.2, random_state=42)"
      ]
    },
    {
      "cell_type": "code",
      "execution_count": null,
      "metadata": {
        "id": "TTtlFC9CA1VP"
      },
      "outputs": [],
      "source": [
        "# Standarisasi fitur agar model bekerja lebih baik\n",
        "scaler = StandardScaler()\n",
        "X_train = scaler.fit_transform(X_train)\n",
        "X_test = scaler.transform(X_test)"
      ]
    },
    {
      "cell_type": "markdown",
      "metadata": {
        "id": "yAywtkLc-6LY"
      },
      "source": [
        "# **Random Forest Model and Evaluation**"
      ]
    },
    {
      "cell_type": "code",
      "execution_count": null,
      "metadata": {
        "id": "rSJCu7qz-3pF"
      },
      "outputs": [],
      "source": [
        "# Definisikan model Random Forest\n",
        "model = RandomForestClassifier(random_state=42)"
      ]
    },
    {
      "cell_type": "code",
      "execution_count": null,
      "metadata": {
        "id": "EecNUlfU_AGU"
      },
      "outputs": [],
      "source": [
        "# K-Fold Cross Validation\n",
        "k = 10\n",
        "kfold = KFold(n_splits=k, shuffle=True, random_state=42)"
      ]
    },
    {
      "cell_type": "code",
      "execution_count": null,
      "metadata": {
        "id": "yx7ts65T_Cr_"
      },
      "outputs": [],
      "source": [
        "# Evaluasi model menggunakan cross_val_score\n",
        "scores = cross_val_score(model, X, y, cv=kfold)"
      ]
    },
    {
      "cell_type": "code",
      "execution_count": null,
      "metadata": {
        "colab": {
          "base_uri": "https://localhost:8080/",
          "height": 75
        },
        "id": "Z9HxRgQ2_Ek0",
        "outputId": "74548551-5c1d-4e45-f83d-fa9948947f66"
      },
      "outputs": [
        {
          "data": {
            "text/html": [
              "<style>#sk-container-id-1 {color: black;}#sk-container-id-1 pre{padding: 0;}#sk-container-id-1 div.sk-toggleable {background-color: white;}#sk-container-id-1 label.sk-toggleable__label {cursor: pointer;display: block;width: 100%;margin-bottom: 0;padding: 0.3em;box-sizing: border-box;text-align: center;}#sk-container-id-1 label.sk-toggleable__label-arrow:before {content: \"▸\";float: left;margin-right: 0.25em;color: #696969;}#sk-container-id-1 label.sk-toggleable__label-arrow:hover:before {color: black;}#sk-container-id-1 div.sk-estimator:hover label.sk-toggleable__label-arrow:before {color: black;}#sk-container-id-1 div.sk-toggleable__content {max-height: 0;max-width: 0;overflow: hidden;text-align: left;background-color: #f0f8ff;}#sk-container-id-1 div.sk-toggleable__content pre {margin: 0.2em;color: black;border-radius: 0.25em;background-color: #f0f8ff;}#sk-container-id-1 input.sk-toggleable__control:checked~div.sk-toggleable__content {max-height: 200px;max-width: 100%;overflow: auto;}#sk-container-id-1 input.sk-toggleable__control:checked~label.sk-toggleable__label-arrow:before {content: \"▾\";}#sk-container-id-1 div.sk-estimator input.sk-toggleable__control:checked~label.sk-toggleable__label {background-color: #d4ebff;}#sk-container-id-1 div.sk-label input.sk-toggleable__control:checked~label.sk-toggleable__label {background-color: #d4ebff;}#sk-container-id-1 input.sk-hidden--visually {border: 0;clip: rect(1px 1px 1px 1px);clip: rect(1px, 1px, 1px, 1px);height: 1px;margin: -1px;overflow: hidden;padding: 0;position: absolute;width: 1px;}#sk-container-id-1 div.sk-estimator {font-family: monospace;background-color: #f0f8ff;border: 1px dotted black;border-radius: 0.25em;box-sizing: border-box;margin-bottom: 0.5em;}#sk-container-id-1 div.sk-estimator:hover {background-color: #d4ebff;}#sk-container-id-1 div.sk-parallel-item::after {content: \"\";width: 100%;border-bottom: 1px solid gray;flex-grow: 1;}#sk-container-id-1 div.sk-label:hover label.sk-toggleable__label {background-color: #d4ebff;}#sk-container-id-1 div.sk-serial::before {content: \"\";position: absolute;border-left: 1px solid gray;box-sizing: border-box;top: 0;bottom: 0;left: 50%;z-index: 0;}#sk-container-id-1 div.sk-serial {display: flex;flex-direction: column;align-items: center;background-color: white;padding-right: 0.2em;padding-left: 0.2em;position: relative;}#sk-container-id-1 div.sk-item {position: relative;z-index: 1;}#sk-container-id-1 div.sk-parallel {display: flex;align-items: stretch;justify-content: center;background-color: white;position: relative;}#sk-container-id-1 div.sk-item::before, #sk-container-id-1 div.sk-parallel-item::before {content: \"\";position: absolute;border-left: 1px solid gray;box-sizing: border-box;top: 0;bottom: 0;left: 50%;z-index: -1;}#sk-container-id-1 div.sk-parallel-item {display: flex;flex-direction: column;z-index: 1;position: relative;background-color: white;}#sk-container-id-1 div.sk-parallel-item:first-child::after {align-self: flex-end;width: 50%;}#sk-container-id-1 div.sk-parallel-item:last-child::after {align-self: flex-start;width: 50%;}#sk-container-id-1 div.sk-parallel-item:only-child::after {width: 0;}#sk-container-id-1 div.sk-dashed-wrapped {border: 1px dashed gray;margin: 0 0.4em 0.5em 0.4em;box-sizing: border-box;padding-bottom: 0.4em;background-color: white;}#sk-container-id-1 div.sk-label label {font-family: monospace;font-weight: bold;display: inline-block;line-height: 1.2em;}#sk-container-id-1 div.sk-label-container {text-align: center;}#sk-container-id-1 div.sk-container {/* jupyter's `normalize.less` sets `[hidden] { display: none; }` but bootstrap.min.css set `[hidden] { display: none !important; }` so we also need the `!important` here to be able to override the default hidden behavior on the sphinx rendered scikit-learn.org. See: https://github.com/scikit-learn/scikit-learn/issues/21755 */display: inline-block !important;position: relative;}#sk-container-id-1 div.sk-text-repr-fallback {display: none;}</style><div id=\"sk-container-id-1\" class=\"sk-top-container\"><div class=\"sk-text-repr-fallback\"><pre>RandomForestClassifier(random_state=42)</pre><b>In a Jupyter environment, please rerun this cell to show the HTML representation or trust the notebook. <br />On GitHub, the HTML representation is unable to render, please try loading this page with nbviewer.org.</b></div><div class=\"sk-container\" hidden><div class=\"sk-item\"><div class=\"sk-estimator sk-toggleable\"><input class=\"sk-toggleable__control sk-hidden--visually\" id=\"sk-estimator-id-1\" type=\"checkbox\" checked><label for=\"sk-estimator-id-1\" class=\"sk-toggleable__label sk-toggleable__label-arrow\">RandomForestClassifier</label><div class=\"sk-toggleable__content\"><pre>RandomForestClassifier(random_state=42)</pre></div></div></div></div></div>"
            ],
            "text/plain": [
              "RandomForestClassifier(random_state=42)"
            ]
          },
          "execution_count": 12,
          "metadata": {},
          "output_type": "execute_result"
        }
      ],
      "source": [
        "# Latih model pada set pelatihan\n",
        "model.fit(X_train, y_train)"
      ]
    },
    {
      "cell_type": "code",
      "execution_count": null,
      "metadata": {
        "id": "t1qcUiSBBa7s"
      },
      "outputs": [],
      "source": [
        "# Hasil prediksi\n",
        "y_pred = model.predict(X_test)"
      ]
    },
    {
      "cell_type": "code",
      "execution_count": null,
      "metadata": {
        "colab": {
          "base_uri": "https://localhost:8080/"
        },
        "id": "5TB-9mfeBM6d",
        "outputId": "538f0f30-1ce9-4f8b-a932-1372bbfc7c0d"
      },
      "outputs": [
        {
          "name": "stdout",
          "output_type": "stream",
          "text": [
            "              precision    recall  f1-score   support\n",
            "\n",
            "           0       0.91      0.98      0.94       277\n",
            "           1       0.96      0.82      0.89       153\n",
            "\n",
            "    accuracy                           0.93       430\n",
            "   macro avg       0.94      0.90      0.92       430\n",
            "weighted avg       0.93      0.93      0.92       430\n",
            "\n",
            "Model accuracy score: 0.9256\n"
          ]
        }
      ],
      "source": [
        "# Tampilkan Classification Report dan Accuracy\n",
        "print(classification_report(y_test, y_pred))\n",
        "print('Model accuracy score: {0:0.4f}'.format(accuracy_score(y_test, y_pred)))"
      ]
    },
    {
      "cell_type": "code",
      "execution_count": null,
      "metadata": {
        "colab": {
          "base_uri": "https://localhost:8080/",
          "height": 576
        },
        "id": "VDYmf4dCBQAm",
        "outputId": "a2130e49-9235-4059-931a-fb2a708cbc35"
      },
      "outputs": [
        {
          "name": "stdout",
          "output_type": "stream",
          "text": [
            "Classification Report Random Forest\n",
            "[[272   5]\n",
            " [ 27 126]]\n"
          ]
        },
        {
          "data": {
            "image/png": "[encoded data removed]",
            "text/plain": [
              "<Figure size 640x480 with 1 Axes>"
            ]
          },
          "metadata": {},
          "output_type": "display_data"
        },
        {
          "name": "stdout",
          "output_type": "stream",
          "text": [
            "Check for Overfitting and Underfitting\n",
            "Training set score: 1.0000\n",
            "Testing set score: 0.9256\n"
          ]
        }
      ],
      "source": [
        "# Tampilkan Confusion Matrix\n",
        "def plot_confusion_matrix(y_true, y_pred, title):\n",
        "    cm = confusion_matrix(y_true, y_pred)\n",
        "    sns.heatmap(cm, annot=True, fmt='d', cmap='Blues', cbar=False)\n",
        "    plt.xlabel('Predicted')\n",
        "    plt.ylabel('True')\n",
        "    plt.title(title)\n",
        "    plt.show()\n",
        "\n",
        "print(\"Classification Report Random Forest\")\n",
        "print(confusion_matrix(y_test, y_pred))\n",
        "plot_confusion_matrix(y_test, y_pred, \"Confusion Matrix\")\n",
        "\n",
        "print('Check for Overfitting and Underfitting')\n",
        "print('Training set score: {:.4f}'.format(model.score(X_train, y_train)))\n",
        "print('Testing set score: {:.4f}'.format(model.score(X_test, y_test)))"
      ]
    },
    {
      "cell_type": "markdown",
      "metadata": {
        "id": "oC3Y3bhf_KKp"
      },
      "source": [
        "# **Optimasi Model dengan Grid Search**"
      ]
    },
    {
      "cell_type": "code",
      "execution_count": null,
      "metadata": {
        "id": "Jw8A0Qqj_Hu5"
      },
      "outputs": [],
      "source": [
        "# Definisikan parameter grid untuk GridSearchCV\n",
        "param_grid = {\n",
        "    'n_estimators': [100, 200, 300],\n",
        "    'max_depth': [10, 20, 30, None],\n",
        "    'min_samples_split': [2, 5, 10],\n",
        "    'min_samples_leaf': [1, 2, 4]\n",
        "}"
      ]
    },
    {
      "cell_type": "code",
      "execution_count": null,
      "metadata": {
        "id": "0PTC94v6_QvT"
      },
      "outputs": [],
      "source": [
        "# Inisialisasi model Random Forest\n",
        "rf = RandomForestClassifier(random_state=42)"
      ]
    },
    {
      "cell_type": "code",
      "execution_count": null,
      "metadata": {
        "id": "XNQ3nVuJ_S2w"
      },
      "outputs": [],
      "source": [
        "# Setup validasi silang K-fold dengan n_splits=10\n",
        "kf = KFold(n_splits=10, shuffle=True, random_state=42)"
      ]
    },
    {
      "cell_type": "code",
      "execution_count": null,
      "metadata": {
        "colab": {
          "background_save": true,
          "base_uri": "https://localhost:8080/"
        },
        "id": "K4m_huC2_Up2",
        "outputId": "c2248323-1eb0-4540-dac2-4ebfac6fe3ed"
      },
      "outputs": [
        {
          "name": "stdout",
          "output_type": "stream",
          "text": [
            "Fitting 10 folds for each of 108 candidates, totalling 1080 fits\n"
          ]
        },
        {
          "data": {
            "text/html": [
              "<style>#sk-container-id-2 {color: black;}#sk-container-id-2 pre{padding: 0;}#sk-container-id-2 div.sk-toggleable {background-color: white;}#sk-container-id-2 label.sk-toggleable__label {cursor: pointer;display: block;width: 100%;margin-bottom: 0;padding: 0.3em;box-sizing: border-box;text-align: center;}#sk-container-id-2 label.sk-toggleable__label-arrow:before {content: \"▸\";float: left;margin-right: 0.25em;color: #696969;}#sk-container-id-2 label.sk-toggleable__label-arrow:hover:before {color: black;}#sk-container-id-2 div.sk-estimator:hover label.sk-toggleable__label-arrow:before {color: black;}#sk-container-id-2 div.sk-toggleable__content {max-height: 0;max-width: 0;overflow: hidden;text-align: left;background-color: #f0f8ff;}#sk-container-id-2 div.sk-toggleable__content pre {margin: 0.2em;color: black;border-radius: 0.25em;background-color: #f0f8ff;}#sk-container-id-2 input.sk-toggleable__control:checked~div.sk-toggleable__content {max-height: 200px;max-width: 100%;overflow: auto;}#sk-container-id-2 input.sk-toggleable__control:checked~label.sk-toggleable__label-arrow:before {content: \"▾\";}#sk-container-id-2 div.sk-estimator input.sk-toggleable__control:checked~label.sk-toggleable__label {background-color: #d4ebff;}#sk-container-id-2 div.sk-label input.sk-toggleable__control:checked~label.sk-toggleable__label {background-color: #d4ebff;}#sk-container-id-2 input.sk-hidden--visually {border: 0;clip: rect(1px 1px 1px 1px);clip: rect(1px, 1px, 1px, 1px);height: 1px;margin: -1px;overflow: hidden;padding: 0;position: absolute;width: 1px;}#sk-container-id-2 div.sk-estimator {font-family: monospace;background-color: #f0f8ff;border: 1px dotted black;border-radius: 0.25em;box-sizing: border-box;margin-bottom: 0.5em;}#sk-container-id-2 div.sk-estimator:hover {background-color: #d4ebff;}#sk-container-id-2 div.sk-parallel-item::after {content: \"\";width: 100%;border-bottom: 1px solid gray;flex-grow: 1;}#sk-container-id-2 div.sk-label:hover label.sk-toggleable__label {background-color: #d4ebff;}#sk-container-id-2 div.sk-serial::before {content: \"\";position: absolute;border-left: 1px solid gray;box-sizing: border-box;top: 0;bottom: 0;left: 50%;z-index: 0;}#sk-container-id-2 div.sk-serial {display: flex;flex-direction: column;align-items: center;background-color: white;padding-right: 0.2em;padding-left: 0.2em;position: relative;}#sk-container-id-2 div.sk-item {position: relative;z-index: 1;}#sk-container-id-2 div.sk-parallel {display: flex;align-items: stretch;justify-content: center;background-color: white;position: relative;}#sk-container-id-2 div.sk-item::before, #sk-container-id-2 div.sk-parallel-item::before {content: \"\";position: absolute;border-left: 1px solid gray;box-sizing: border-box;top: 0;bottom: 0;left: 50%;z-index: -1;}#sk-container-id-2 div.sk-parallel-item {display: flex;flex-direction: column;z-index: 1;position: relative;background-color: white;}#sk-container-id-2 div.sk-parallel-item:first-child::after {align-self: flex-end;width: 50%;}#sk-container-id-2 div.sk-parallel-item:last-child::after {align-self: flex-start;width: 50%;}#sk-container-id-2 div.sk-parallel-item:only-child::after {width: 0;}#sk-container-id-2 div.sk-dashed-wrapped {border: 1px dashed gray;margin: 0 0.4em 0.5em 0.4em;box-sizing: border-box;padding-bottom: 0.4em;background-color: white;}#sk-container-id-2 div.sk-label label {font-family: monospace;font-weight: bold;display: inline-block;line-height: 1.2em;}#sk-container-id-2 div.sk-label-container {text-align: center;}#sk-container-id-2 div.sk-container {/* jupyter's `normalize.less` sets `[hidden] { display: none; }` but bootstrap.min.css set `[hidden] { display: none !important; }` so we also need the `!important` here to be able to override the default hidden behavior on the sphinx rendered scikit-learn.org. See: https://github.com/scikit-learn/scikit-learn/issues/21755 */display: inline-block !important;position: relative;}#sk-container-id-2 div.sk-text-repr-fallback {display: none;}</style><div id=\"sk-container-id-2\" class=\"sk-top-container\"><div class=\"sk-text-repr-fallback\"><pre>GridSearchCV(cv=KFold(n_splits=10, random_state=42, shuffle=True),\n",
              "             estimator=RandomForestClassifier(random_state=42), n_jobs=-1,\n",
              "             param_grid={&#x27;max_depth&#x27;: [10, 20, 30, None],\n",
              "                         &#x27;min_samples_leaf&#x27;: [1, 2, 4],\n",
              "                         &#x27;min_samples_split&#x27;: [2, 5, 10],\n",
              "                         &#x27;n_estimators&#x27;: [100, 200, 300]},\n",
              "             scoring=&#x27;accuracy&#x27;, verbose=1)</pre><b>In a Jupyter environment, please rerun this cell to show the HTML representation or trust the notebook. <br />On GitHub, the HTML representation is unable to render, please try loading this page with nbviewer.org.</b></div><div class=\"sk-container\" hidden><div class=\"sk-item sk-dashed-wrapped\"><div class=\"sk-label-container\"><div class=\"sk-label sk-toggleable\"><input class=\"sk-toggleable__control sk-hidden--visually\" id=\"sk-estimator-id-2\" type=\"checkbox\" ><label for=\"sk-estimator-id-2\" class=\"sk-toggleable__label sk-toggleable__label-arrow\">GridSearchCV</label><div class=\"sk-toggleable__content\"><pre>GridSearchCV(cv=KFold(n_splits=10, random_state=42, shuffle=True),\n",
              "             estimator=RandomForestClassifier(random_state=42), n_jobs=-1,\n",
              "             param_grid={&#x27;max_depth&#x27;: [10, 20, 30, None],\n",
              "                         &#x27;min_samples_leaf&#x27;: [1, 2, 4],\n",
              "                         &#x27;min_samples_split&#x27;: [2, 5, 10],\n",
              "                         &#x27;n_estimators&#x27;: [100, 200, 300]},\n",
              "             scoring=&#x27;accuracy&#x27;, verbose=1)</pre></div></div></div><div class=\"sk-parallel\"><div class=\"sk-parallel-item\"><div class=\"sk-item\"><div class=\"sk-label-container\"><div class=\"sk-label sk-toggleable\"><input class=\"sk-toggleable__control sk-hidden--visually\" id=\"sk-estimator-id-3\" type=\"checkbox\" ><label for=\"sk-estimator-id-3\" class=\"sk-toggleable__label sk-toggleable__label-arrow\">estimator: RandomForestClassifier</label><div class=\"sk-toggleable__content\"><pre>RandomForestClassifier(random_state=42)</pre></div></div></div><div class=\"sk-serial\"><div class=\"sk-item\"><div class=\"sk-estimator sk-toggleable\"><input class=\"sk-toggleable__control sk-hidden--visually\" id=\"sk-estimator-id-4\" type=\"checkbox\" ><label for=\"sk-estimator-id-4\" class=\"sk-toggleable__label sk-toggleable__label-arrow\">RandomForestClassifier</label><div class=\"sk-toggleable__content\"><pre>RandomForestClassifier(random_state=42)</pre></div></div></div></div></div></div></div></div></div></div>"
            ],
            "text/plain": [
              "GridSearchCV(cv=KFold(n_splits=10, random_state=42, shuffle=True),\n",
              "             estimator=RandomForestClassifier(random_state=42), n_jobs=-1,\n",
              "             param_grid={'max_depth': [10, 20, 30, None],\n",
              "                         'min_samples_leaf': [1, 2, 4],\n",
              "                         'min_samples_split': [2, 5, 10],\n",
              "                         'n_estimators': [100, 200, 300]},\n",
              "             scoring='accuracy', verbose=1)"
            ]
          },
          "execution_count": 19,
          "metadata": {},
          "output_type": "execute_result"
        }
      ],
      "source": [
        "# Menjalankan GridSearchCV\n",
        "grid_search = GridSearchCV(estimator=rf, param_grid=param_grid, cv=kf, scoring='accuracy', n_jobs=-1, verbose=1)\n",
        "grid_search.fit(X_train, y_train)\n"
      ]
    },
    {
      "cell_type": "code",
      "execution_count": null,
      "metadata": {
        "colab": {
          "background_save": true
        },
        "id": "R2qpKhR7_Wc6"
      },
      "outputs": [],
      "source": [
        "# Mengambil hasil grid search\n",
        "cv_results = grid_search.cv_results_"
      ]
    },
    {
      "cell_type": "code",
      "execution_count": null,
      "metadata": {
        "colab": {
          "background_save": true
        },
        "id": "a9sbdGTS_YNw"
      },
      "outputs": [],
      "source": [
        "# Menyusun hasil ke dalam DataFrame\n",
        "results_df = pd.DataFrame({\n",
        "    'parameter': cv_results['params'],\n",
        "    'std_test_score': cv_results['std_test_score'],\n",
        "    'rank_test_score': cv_results['rank_test_score']\n",
        "}).sort_values(by='rank_test_score')"
      ]
    },
    {
      "cell_type": "code",
      "execution_count": null,
      "metadata": {
        "colab": {
          "background_save": true
        },
        "id": "P75GCkA4BzQA",
        "outputId": "c5234f32-529e-4f48-98cb-98223a7f1a09"
      },
      "outputs": [
        {
          "name": "stdout",
          "output_type": "stream",
          "text": [
            "\n",
            "Hasil Perbandingan Hyperparameter Random Forest:\n",
            "                                             parameter  std_test_score  \\\n",
            "59   {'max_depth': 30, 'min_samples_leaf': 1, 'min_...        0.023693   \n",
            "86   {'max_depth': None, 'min_samples_leaf': 1, 'mi...        0.023693   \n",
            "32   {'max_depth': 20, 'min_samples_leaf': 1, 'min_...        0.023426   \n",
            "78   {'max_depth': 30, 'min_samples_leaf': 4, 'min_...        0.026790   \n",
            "105  {'max_depth': None, 'min_samples_leaf': 4, 'mi...        0.026790   \n",
            "..                                                 ...             ...   \n",
            "100  {'max_depth': None, 'min_samples_leaf': 4, 'mi...        0.032064   \n",
            "49   {'max_depth': 20, 'min_samples_leaf': 4, 'min_...        0.032064   \n",
            "103  {'max_depth': None, 'min_samples_leaf': 4, 'mi...        0.032064   \n",
            "73   {'max_depth': 30, 'min_samples_leaf': 4, 'min_...        0.032064   \n",
            "76   {'max_depth': 30, 'min_samples_leaf': 4, 'min_...        0.032064   \n",
            "\n",
            "     rank_test_score  \n",
            "59                 1  \n",
            "86                 1  \n",
            "32                 3  \n",
            "78                 4  \n",
            "105                4  \n",
            "..               ...  \n",
            "100              103  \n",
            "49               103  \n",
            "103              103  \n",
            "73               103  \n",
            "76               103  \n",
            "\n",
            "[108 rows x 3 columns]\n"
          ]
        }
      ],
      "source": [
        "# Menampilkan hasil perbandingan parameter\n",
        "print(\"\\nHasil Perbandingan Hyperparameter Random Forest:\")\n",
        "print(results_df)"
      ]
    },
    {
      "cell_type": "code",
      "execution_count": null,
      "metadata": {
        "colab": {
          "background_save": true
        },
        "id": "9ezjYERSB000"
      },
      "outputs": [],
      "source": [
        "# Menguji model terbaik pada data testing\n",
        "best_model = grid_search.best_estimator_\n",
        "y_pred = best_model.predict(X_test)"
      ]
    },
    {
      "cell_type": "code",
      "execution_count": null,
      "metadata": {
        "colab": {
          "background_save": true
        },
        "id": "VgaMlewqB3_9",
        "outputId": "73f5e709-7974-4e5c-bf3d-7ebb73ac5e87"
      },
      "outputs": [
        {
          "name": "stdout",
          "output_type": "stream",
          "text": [
            "Akurasi pada data uji: 0.9302\n",
            "Best parameters found:  {'max_depth': 30, 'min_samples_leaf': 1, 'min_samples_split': 5, 'n_estimators': 300}\n",
            "Best cross-validation score:  0.9400822793417651\n",
            "Best estimator:  RandomForestClassifier(max_depth=30, min_samples_split=5, n_estimators=300,\n",
            "                       random_state=42)\n"
          ]
        }
      ],
      "source": [
        "# Akurasi pada data uji\n",
        "test_accuracy = best_model.score(X_test, y_test)\n",
        "print(f\"Akurasi pada data uji: {test_accuracy:.4f}\")\n",
        "print(\"Best parameters found: \", grid_search.best_params_)\n",
        "print(\"Best cross-validation score: \", grid_search.best_score_)\n",
        "print(\"Best estimator: \", grid_search.best_estimator_)"
      ]
    },
    {
      "cell_type": "code",
      "execution_count": null,
      "metadata": {
        "colab": {
          "background_save": true
        },
        "id": "QrTrV1nOB52h",
        "outputId": "5a1d4a26-12ca-45a2-e0f6-296b23fed9b0"
      },
      "outputs": [
        {
          "name": "stdout",
          "output_type": "stream",
          "text": [
            "Classification Report Random Forest setelah Optimasi\n",
            "[[272   5]\n",
            " [ 25 128]]\n",
            "              precision    recall  f1-score   support\n",
            "\n",
            "           0       0.92      0.98      0.95       277\n",
            "           1       0.96      0.84      0.90       153\n",
            "\n",
            "    accuracy                           0.93       430\n",
            "   macro avg       0.94      0.91      0.92       430\n",
            "weighted avg       0.93      0.93      0.93       430\n",
            "\n",
            "Model accuracy score setelah optimasi: 0.9302\n"
          ]
        },
        {
          "data": {
            "image/png": "[encoded data removed]",
            "text/plain": [
              "<Figure size 640x480 with 1 Axes>"
            ]
          },
          "metadata": {},
          "output_type": "display_data"
        }
      ],
      "source": [
        "# Tampilkan Confusion Matrix dan Classification Report\n",
        "print(\"Classification Report Random Forest setelah Optimasi\")\n",
        "print(confusion_matrix(y_test, y_pred))\n",
        "print(classification_report(y_test, y_pred))\n",
        "print('Model accuracy score setelah optimasi: {0:0.4f}'.format(accuracy_score(y_test, y_pred)))\n",
        "plot_confusion_matrix(y_test, y_pred, \"Confusion Matrix setelah Optimasi\")"
      ]
    }
  ],
  "metadata": {
    "colab": {
      "provenance": []
    },
    "kernelspec": {
      "display_name": "Python 3",
      "name": "python3"
    },
    "language_info": {
      "name": "python"
    }
  },
  "nbformat": 4,
  "nbformat_minor": 0
}