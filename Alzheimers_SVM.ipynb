{
  "cells": [
    {
      "cell_type": "markdown",
      "metadata": {
        "id": "z7gtfzmTA5LO"
      },
      "source": [
        "# **Import Library**"
      ]
    },
    {
      "cell_type": "code",
      "execution_count": null,
      "metadata": {
        "id": "mYhmfq5b27TL"
      },
      "outputs": [],
      "source": [
        "import numpy as np\n",
        "import pandas as pd\n",
        "import matplotlib.pyplot as plt\n",
        "import seaborn as sns\n",
        "import warnings\n",
        "warnings.filterwarnings('ignore')\n",
        "\n",
        "from sklearn.decomposition import PCA\n",
        "from sklearn.svm import SVC\n",
        "from sklearn.model_selection import GridSearchCV, train_test_split, KFold, RepeatedKFold, cross_val_score\n",
        "from sklearn.pipeline import Pipeline\n",
        "from sklearn.preprocessing import StandardScaler\n",
        "from sklearn.metrics import classification_report, confusion_matrix, accuracy_score"
      ]
    },
    {
      "cell_type": "markdown",
      "metadata": {
        "id": "2uyBkUhKA-si"
      },
      "source": [
        "# **Load Data**"
      ]
    },
    {
      "cell_type": "code",
      "execution_count": null,
      "metadata": {
        "colab": {
          "base_uri": "https://localhost:8080/"
        },
        "id": "HFijWxk03TSq",
        "outputId": "9c21f207-2896-4cd7-f334-a69355242db7"
      },
      "outputs": [
        {
          "output_type": "stream",
          "name": "stdout",
          "text": [
            "<class 'pandas.core.frame.DataFrame'>\n",
            "RangeIndex: 2149 entries, 0 to 2148\n",
            "Data columns (total 35 columns):\n",
            " #   Column                     Non-Null Count  Dtype  \n",
            "---  ------                     --------------  -----  \n",
            " 0   PatientID                  2149 non-null   int64  \n",
            " 1   Age                        2149 non-null   int64  \n",
            " 2   Gender                     2149 non-null   int64  \n",
            " 3   Ethnicity                  2149 non-null   int64  \n",
            " 4   EducationLevel             2149 non-null   int64  \n",
            " 5   BMI                        2149 non-null   float64\n",
            " 6   Smoking                    2149 non-null   int64  \n",
            " 7   AlcoholConsumption         2149 non-null   float64\n",
            " 8   PhysicalActivity           2149 non-null   float64\n",
            " 9   DietQuality                2149 non-null   float64\n",
            " 10  SleepQuality               2149 non-null   float64\n",
            " 11  FamilyHistoryAlzheimers    2149 non-null   int64  \n",
            " 12  CardiovascularDisease      2149 non-null   int64  \n",
            " 13  Diabetes                   2149 non-null   int64  \n",
            " 14  Depression                 2149 non-null   int64  \n",
            " 15  HeadInjury                 2149 non-null   int64  \n",
            " 16  Hypertension               2149 non-null   int64  \n",
            " 17  SystolicBP                 2149 non-null   int64  \n",
            " 18  DiastolicBP                2149 non-null   int64  \n",
            " 19  CholesterolTotal           2149 non-null   float64\n",
            " 20  CholesterolLDL             2149 non-null   float64\n",
            " 21  CholesterolHDL             2149 non-null   float64\n",
            " 22  CholesterolTriglycerides   2149 non-null   float64\n",
            " 23  MMSE                       2149 non-null   float64\n",
            " 24  FunctionalAssessment       2149 non-null   float64\n",
            " 25  MemoryComplaints           2149 non-null   int64  \n",
            " 26  BehavioralProblems         2149 non-null   int64  \n",
            " 27  ADL                        2149 non-null   float64\n",
            " 28  Confusion                  2149 non-null   int64  \n",
            " 29  Disorientation             2149 non-null   int64  \n",
            " 30  PersonalityChanges         2149 non-null   int64  \n",
            " 31  DifficultyCompletingTasks  2149 non-null   int64  \n",
            " 32  Forgetfulness              2149 non-null   int64  \n",
            " 33  Diagnosis                  2149 non-null   int64  \n",
            " 34  DoctorInCharge             2149 non-null   object \n",
            "dtypes: float64(12), int64(22), object(1)\n",
            "memory usage: 587.7+ KB\n",
            "None\n"
          ]
        }
      ],
      "source": [
        "# Load dataset\n",
        "data = pd.read_csv('alzheimers_disease_data.csv')\n",
        "print(data.info())"
      ]
    },
    {
      "cell_type": "markdown",
      "metadata": {
        "id": "jDBpstQlBDyW"
      },
      "source": [
        "# **Pre-Processing**"
      ]
    },
    {
      "cell_type": "code",
      "execution_count": null,
      "metadata": {
        "colab": {
          "base_uri": "https://localhost:8080/"
        },
        "id": "GzhshWAp3pzx",
        "outputId": "af27717e-b0b7-4fd8-e27a-b59d8815591d"
      },
      "outputs": [
        {
          "output_type": "stream",
          "name": "stdout",
          "text": [
            "Missing values per column:\n",
            "PatientID                    0\n",
            "Age                          0\n",
            "Gender                       0\n",
            "Ethnicity                    0\n",
            "EducationLevel               0\n",
            "BMI                          0\n",
            "Smoking                      0\n",
            "AlcoholConsumption           0\n",
            "PhysicalActivity             0\n",
            "DietQuality                  0\n",
            "SleepQuality                 0\n",
            "FamilyHistoryAlzheimers      0\n",
            "CardiovascularDisease        0\n",
            "Diabetes                     0\n",
            "Depression                   0\n",
            "HeadInjury                   0\n",
            "Hypertension                 0\n",
            "SystolicBP                   0\n",
            "DiastolicBP                  0\n",
            "CholesterolTotal             0\n",
            "CholesterolLDL               0\n",
            "CholesterolHDL               0\n",
            "CholesterolTriglycerides     0\n",
            "MMSE                         0\n",
            "FunctionalAssessment         0\n",
            "MemoryComplaints             0\n",
            "BehavioralProblems           0\n",
            "ADL                          0\n",
            "Confusion                    0\n",
            "Disorientation               0\n",
            "PersonalityChanges           0\n",
            "DifficultyCompletingTasks    0\n",
            "Forgetfulness                0\n",
            "Diagnosis                    0\n",
            "DoctorInCharge               0\n",
            "dtype: int64\n"
          ]
        }
      ],
      "source": [
        "# Check for missing values\n",
        "print(\"Missing values per column:\")\n",
        "print(data.isnull().sum())"
      ]
    },
    {
      "cell_type": "code",
      "execution_count": null,
      "metadata": {
        "id": "HRL8GxUd3uMU"
      },
      "outputs": [],
      "source": [
        "# Menghilangkan nilai yang hilang\n",
        "data = data.dropna()"
      ]
    },
    {
      "cell_type": "code",
      "execution_count": null,
      "metadata": {
        "colab": {
          "base_uri": "https://localhost:8080/"
        },
        "id": "5Z4fjNSV3ycb",
        "outputId": "34b26a36-3f99-4328-c7f6-3e1a75c40913"
      },
      "outputs": [
        {
          "output_type": "stream",
          "name": "stdout",
          "text": [
            "         PatientID          Age       Gender    Ethnicity  EducationLevel  \\\n",
            "count  2149.000000  2149.000000  2149.000000  2149.000000     2149.000000   \n",
            "mean   5825.000000    74.908795     0.506282     0.697534        1.286645   \n",
            "std     620.507185     8.990221     0.500077     0.996128        0.904527   \n",
            "min    4751.000000    60.000000     0.000000     0.000000        0.000000   \n",
            "25%    5288.000000    67.000000     0.000000     0.000000        1.000000   \n",
            "50%    5825.000000    75.000000     1.000000     0.000000        1.000000   \n",
            "75%    6362.000000    83.000000     1.000000     1.000000        2.000000   \n",
            "max    6899.000000    90.000000     1.000000     3.000000        3.000000   \n",
            "\n",
            "               BMI      Smoking  AlcoholConsumption  PhysicalActivity  \\\n",
            "count  2149.000000  2149.000000         2149.000000       2149.000000   \n",
            "mean     27.655697     0.288506           10.039442          4.920202   \n",
            "std       7.217438     0.453173            5.757910          2.857191   \n",
            "min      15.008851     0.000000            0.002003          0.003616   \n",
            "25%      21.611408     0.000000            5.139810          2.570626   \n",
            "50%      27.823924     0.000000            9.934412          4.766424   \n",
            "75%      33.869778     1.000000           15.157931          7.427899   \n",
            "max      39.992767     1.000000           19.989293          9.987429   \n",
            "\n",
            "       DietQuality  ...  FunctionalAssessment  MemoryComplaints  \\\n",
            "count  2149.000000  ...           2149.000000       2149.000000   \n",
            "mean      4.993138  ...              5.080055          0.208004   \n",
            "std       2.909055  ...              2.892743          0.405974   \n",
            "min       0.009385  ...              0.000460          0.000000   \n",
            "25%       2.458455  ...              2.566281          0.000000   \n",
            "50%       5.076087  ...              5.094439          0.000000   \n",
            "75%       7.558625  ...              7.546981          0.000000   \n",
            "max       9.998346  ...              9.996467          1.000000   \n",
            "\n",
            "       BehavioralProblems          ADL    Confusion  Disorientation  \\\n",
            "count         2149.000000  2149.000000  2149.000000     2149.000000   \n",
            "mean             0.156817     4.982958     0.205212        0.158213   \n",
            "std              0.363713     2.949775     0.403950        0.365026   \n",
            "min              0.000000     0.001288     0.000000        0.000000   \n",
            "25%              0.000000     2.342836     0.000000        0.000000   \n",
            "50%              0.000000     5.038973     0.000000        0.000000   \n",
            "75%              0.000000     7.581490     0.000000        0.000000   \n",
            "max              1.000000     9.999747     1.000000        1.000000   \n",
            "\n",
            "       PersonalityChanges  DifficultyCompletingTasks  Forgetfulness  \\\n",
            "count         2149.000000                2149.000000    2149.000000   \n",
            "mean             0.150768                   0.158678       0.301536   \n",
            "std              0.357906                   0.365461       0.459032   \n",
            "min              0.000000                   0.000000       0.000000   \n",
            "25%              0.000000                   0.000000       0.000000   \n",
            "50%              0.000000                   0.000000       0.000000   \n",
            "75%              0.000000                   0.000000       1.000000   \n",
            "max              1.000000                   1.000000       1.000000   \n",
            "\n",
            "         Diagnosis  \n",
            "count  2149.000000  \n",
            "mean      0.353653  \n",
            "std       0.478214  \n",
            "min       0.000000  \n",
            "25%       0.000000  \n",
            "50%       0.000000  \n",
            "75%       1.000000  \n",
            "max       1.000000  \n",
            "\n",
            "[8 rows x 34 columns]\n"
          ]
        }
      ],
      "source": [
        "# Menghilangkan data duplikat\n",
        "data = data.drop_duplicates()\n",
        "print(data.describe())"
      ]
    },
    {
      "cell_type": "code",
      "execution_count": null,
      "metadata": {
        "id": "dvdkAS2S32Va"
      },
      "outputs": [],
      "source": [
        "# Asumsikan kolom terakhir adalah label\n",
        "X = data.drop(columns=['PatientID', 'DoctorInCharge', 'Diagnosis'])\n",
        "y = data['Diagnosis']"
      ]
    },
    {
      "cell_type": "markdown",
      "metadata": {
        "id": "VgBNz-joBWnc"
      },
      "source": [
        "# **Pembagian Data**"
      ]
    },
    {
      "cell_type": "code",
      "execution_count": null,
      "metadata": {
        "id": "bjSDpXLQ4M25"
      },
      "outputs": [],
      "source": [
        "# Membagi data dengan rasio 80:20\n",
        "X_train, X_test, y_train, y_test = train_test_split(X, y, test_size=0.2, random_state=42)"
      ]
    },
    {
      "cell_type": "code",
      "execution_count": null,
      "metadata": {
        "id": "g9_YNccc4loN"
      },
      "outputs": [],
      "source": [
        "# Standarisasi fitur agar SVM dapat bekerja lebih baik\n",
        "scaler = StandardScaler()\n",
        "X_train = scaler.fit_transform(X_train)\n",
        "X_test = scaler.transform(X_test)"
      ]
    },
    {
      "cell_type": "markdown",
      "metadata": {
        "id": "IWMkGAQ1Bu1r"
      },
      "source": [
        "# **SVM**"
      ]
    },
    {
      "cell_type": "code",
      "execution_count": null,
      "metadata": {
        "id": "LupGP3Qa4pJO"
      },
      "outputs": [],
      "source": [
        "# Definisikan model SVM\n",
        "model = SVC()"
      ]
    },
    {
      "cell_type": "code",
      "execution_count": null,
      "metadata": {
        "id": "kQHCODZo4_iL"
      },
      "outputs": [],
      "source": [
        "# K-Fold Cross Validation\n",
        "k = 10\n",
        "kfold = KFold(n_splits=k, shuffle=True, random_state=42)"
      ]
    },
    {
      "cell_type": "code",
      "execution_count": null,
      "metadata": {
        "id": "tWDzz-Xo5Cay"
      },
      "outputs": [],
      "source": [
        "# Evaluasi model menggunakan cross_val_score\n",
        "scores = cross_val_score(model, X, y, cv=kfold)"
      ]
    },
    {
      "cell_type": "code",
      "execution_count": null,
      "metadata": {
        "id": "QSy01_0D5IeX"
      },
      "outputs": [],
      "source": [
        "# Latih model pada set pelatihan\n",
        "model.fit(X_train, y_train)\n",
        "# Hasil prediksi\n",
        "y_pred = model.predict(X_test)"
      ]
    },
    {
      "cell_type": "code",
      "execution_count": null,
      "metadata": {
        "colab": {
          "base_uri": "https://localhost:8080/"
        },
        "id": "nD-VQuScCANu",
        "outputId": "07ee9439-8f5a-45cb-c064-92d9b0073268"
      },
      "outputs": [
        {
          "output_type": "stream",
          "name": "stdout",
          "text": [
            "              precision    recall  f1-score   support\n",
            "\n",
            "           0       0.85      0.90      0.87       277\n",
            "           1       0.80      0.71      0.75       153\n",
            "\n",
            "    accuracy                           0.83       430\n",
            "   macro avg       0.82      0.80      0.81       430\n",
            "weighted avg       0.83      0.83      0.83       430\n",
            "\n",
            "Model accuracy score: 0.8326\n"
          ]
        }
      ],
      "source": [
        "# Tampilkan Classification Report dan Accuracy\n",
        "print(classification_report(y_test, y_pred))\n",
        "print('Model accuracy score: {0:0.4f}'.format(accuracy_score(y_test, y_pred)))"
      ]
    },
    {
      "cell_type": "code",
      "execution_count": null,
      "metadata": {
        "id": "5QHWTbTWCCW6"
      },
      "outputs": [],
      "source": [
        "# Tampilkan Confusion Matrix\n",
        "def plot_confusion_matrix(y_true, y_pred, title):\n",
        "    cm = confusion_matrix(y_true, y_pred)\n",
        "    sns.heatmap(cm, annot=True, fmt='d', cmap='Blues', cbar=False)\n",
        "    plt.xlabel('Predicted')\n",
        "    plt.ylabel('True')\n",
        "    plt.title(title)\n",
        "    plt.show()"
      ]
    },
    {
      "cell_type": "code",
      "execution_count": null,
      "metadata": {
        "colab": {
          "base_uri": "https://localhost:8080/",
          "height": 576
        },
        "id": "8mHJAFYfCF_I",
        "outputId": "91959e36-721d-4941-e15f-420a7fcd6d7a"
      },
      "outputs": [
        {
          "output_type": "stream",
          "name": "stdout",
          "text": [
            "Classification Report SVM\n",
            "[[250  27]\n",
            " [ 45 108]]\n"
          ]
        },
        {
          "output_type": "display_data",
          "data": {
            "text/plain": [
              "<Figure size 640x480 with 1 Axes>"
            ],
            "image/png": "[encoded data removed]"
          },
          "metadata": {}
        },
        {
          "output_type": "stream",
          "name": "stdout",
          "text": [
            "Check for Overfitting and Underfitting\n",
            "Training set score: 0.9401\n",
            "Testing set score: 0.8326\n"
          ]
        }
      ],
      "source": [
        "print(\"Classification Report SVM\")\n",
        "print(confusion_matrix(y_test, y_pred))\n",
        "plot_confusion_matrix(y_test, y_pred, \"Confusion Matrix\")\n",
        "\n",
        "print('Check for Overfitting and Underfitting')\n",
        "print('Training set score: {:.4f}'.format(model.score(X_train, y_train)))\n",
        "print('Testing set score: {:.4f}'.format(model.score(X_test, y_test)))"
      ]
    },
    {
      "cell_type": "markdown",
      "metadata": {
        "id": "K_ySAsGJCPYV"
      },
      "source": [
        "# **Grid Search**"
      ]
    },
    {
      "cell_type": "code",
      "execution_count": null,
      "metadata": {
        "id": "_JdvwkNkCTCc"
      },
      "outputs": [],
      "source": [
        "# Definisikan parameter grid untuk GridSearchCV\n",
        "param_grid = [\n",
        "    {'C': [1, 10, 100, 1000], 'kernel': ['linear']},\n",
        "    {'C': [1, 10, 100, 1000], 'kernel': ['rbf'], 'gamma': [0.1, 0.2, 0.3, 0.4, 0.5]},\n",
        "    {'C': [1, 10, 100, 1000], 'kernel': ['poly'], 'degree': [2, 3], 'gamma': [0.01, 0.02, 0.03, 0.04, 0.05]},\n",
        "    {'C': [1, 10, 100, 1000], 'kernel': ['sigmoid'], 'gamma': [0.01, 0.02, 0.03, 0.04, 0.05]}\n",
        "]"
      ]
    },
    {
      "cell_type": "code",
      "execution_count": null,
      "metadata": {
        "id": "6RK1pMvOCYR3"
      },
      "outputs": [],
      "source": [
        "# Inisialisasi model SVM\n",
        "svm = SVC()"
      ]
    },
    {
      "cell_type": "code",
      "execution_count": null,
      "metadata": {
        "id": "AGkNY-b8Caku"
      },
      "outputs": [],
      "source": [
        "# Setup validasi silang K-fold dengan n_splits=10\n",
        "kf = KFold(n_splits=10, shuffle=True, random_state=42)"
      ]
    },
    {
      "cell_type": "code",
      "execution_count": null,
      "metadata": {
        "colab": {
          "base_uri": "https://localhost:8080/"
        },
        "id": "iTfVjI3_CdwO",
        "outputId": "f03c48bd-1d98-4061-bfda-904d184dff21"
      },
      "outputs": [
        {
          "metadata": {
            "tags": null
          },
          "name": "stdout",
          "output_type": "stream",
          "text": [
            "Fitting 10 folds for each of 84 candidates, totalling 840 fits\n"
          ]
        }
      ],
      "source": [
        "# Menjalankan GridSearchCV\n",
        "grid_search = GridSearchCV(estimator=svm, param_grid=param_grid, cv=kf, scoring='accuracy', n_jobs=-1, verbose=1)\n",
        "grid_search.fit(X_train, y_train)"
      ]
    },
    {
      "cell_type": "code",
      "execution_count": null,
      "metadata": {
        "id": "HCYTZKc6CewR"
      },
      "outputs": [],
      "source": [
        "# Mengambil hasil grid search\n",
        "cv_results = grid_search.cv_results_"
      ]
    },
    {
      "cell_type": "code",
      "execution_count": null,
      "metadata": {
        "id": "vZUtbcrfCgfy"
      },
      "outputs": [],
      "source": [
        "# Menyusun hasil ke dalam DataFrame\n",
        "results_df = pd.DataFrame({\n",
        "    'parameter': cv_results['params'],\n",
        "    'std_test_score': cv_results['std_test_score'],\n",
        "    'rank_test_score': cv_results['rank_test_score']\n",
        "}).sort_values(by='rank_test_score')"
      ]
    },
    {
      "cell_type": "code",
      "execution_count": null,
      "metadata": {
        "id": "TathB5zGCiox"
      },
      "outputs": [],
      "source": [
        "# Menampilkan hasil perbandingan kernel\n",
        "print(\"\\nHasil Perbandingan Antar Kernel SVM:\")\n",
        "print(results_df)"
      ]
    },
    {
      "cell_type": "code",
      "execution_count": null,
      "metadata": {
        "id": "rpTvr89YCkvG"
      },
      "outputs": [],
      "source": [
        "# Menguji model terbaik pada data testing\n",
        "best_model = grid_search.best_estimator_\n",
        "y_pred = best_model.predict(X_test)"
      ]
    },
    {
      "cell_type": "code",
      "execution_count": null,
      "metadata": {
        "id": "jVLLmHe7CrG6"
      },
      "outputs": [],
      "source": [
        "# Akurasi pada data uji\n",
        "test_accuracy = best_model.score(X_test, y_test)\n",
        "print(f\"Akurasi pada data uji: {test_accuracy:.4f}\")\n",
        "print(\"Best parameters found: \", grid_search.best_params_)\n",
        "print(\"Best cross-validation score: \", grid_search.best_score_)\n",
        "print(\"Best estimator: \", grid_search.best_estimator_)"
      ]
    },
    {
      "cell_type": "code",
      "execution_count": null,
      "metadata": {
        "id": "S_vwNp1HCtGX"
      },
      "outputs": [],
      "source": [
        "# Tampilkan Confusion Matrix dan Classification Report\n",
        "print(\"Classification Report SVM\")\n",
        "print(confusion_matrix(y_test, y_pred))\n",
        "print(classification_report(y_test, y_pred))\n",
        "print('Model accuracy score: {0:0.4f}'.format(accuracy_score(y_test, y_pred)))\n",
        "plot_confusion_matrix(y_test, y_pred, \"Confusion Matrix setelah Optimasi\")"
      ]
    }
  ],
  "metadata": {
    "colab": {
      "provenance": []
    },
    "kernelspec": {
      "display_name": "Python 3",
      "name": "python3"
    },
    "language_info": {
      "name": "python"
    }
  },
  "nbformat": 4,
  "nbformat_minor": 0
}